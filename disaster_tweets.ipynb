{
  "cells": [
    {
      "cell_type": "markdown",
      "metadata": {
        "id": "5Qbjcpap7BUQ"
      },
      "source": [
        "# DTSA-5511 Week 4 Programming Assignment"
      ]
    },
    {
      "cell_type": "markdown",
      "metadata": {
        "id": "qtXCD73t7SS6"
      },
      "source": [
        "The objective of this assignment is to use the [Natural Language Processing with Disaster Tweets](https://www.kaggle.com/competitions/nlp-getting-started/overview) Kaggle competition data to compare the performance of three different recurrent neural network (RNN) models for performing a text classification. The architectures I tried are the SimpleRNN, LSTM, and GRU models from the [Keras](https://keras.io/) package.\n",
        "\n",
        "The dataset contains 7613 tweets with an average length of 15 words. Each tweet is labeled with a target of `1` or `0` (`1` indicating that the tweet is about a real disaster, and `0` indicating no disaster). The goal is to train models that can correctly separate disaster-related tweets from tweets that are not about disasters.\n",
        "\n",
        "The challenge here is that the non-disaster-related tweets often contain language that might easily fool a model if keywords were taken in isolation (e.g., \"Has an accident changed your life?\" vs \"Car accident on I-75...\"). This requires the models to develop a sense of context, which RNNs are capable of doing in their hidden state vectors.\n",
        "\n",
        "This notebook was run in a Google Collab environment. I based the Keras code on this post: https://machinelearningmastery.com/sequence-classification-lstm-recurrent-neural-networks-python-keras/.\n"
      ]
    },
    {
      "cell_type": "markdown",
      "metadata": {
        "id": "S_mk5acQ_2zt"
      },
      "source": [
        "## Import Kaggle Data"
      ]
    },
    {
      "cell_type": "code",
      "execution_count": 55,
      "metadata": {
        "id": "JhBxS7uzczL5"
      },
      "outputs": [],
      "source": [
        "from google.colab import files"
      ]
    },
    {
      "cell_type": "code",
      "execution_count": null,
      "metadata": {
        "colab": {
          "base_uri": "https://localhost:8080/",
          "height": 92
        },
        "id": "-BeIKwV6eiz-",
        "outputId": "5bdea678-2c26-4e9b-d0c3-53faf31cb8db"
      },
      "outputs": [],
      "source": [
        "files.upload()"
      ]
    },
    {
      "cell_type": "code",
      "execution_count": 57,
      "metadata": {
        "colab": {
          "base_uri": "https://localhost:8080/"
        },
        "id": "2Gn5LmEmexQu",
        "outputId": "aaf99d64-3e85-4ff3-f5ae-953c84ff1c13"
      },
      "outputs": [
        {
          "name": "stdout",
          "output_type": "stream",
          "text": [
            "/content\n"
          ]
        }
      ],
      "source": [
        "!pwd"
      ]
    },
    {
      "cell_type": "code",
      "execution_count": 58,
      "metadata": {
        "id": "szanFaude0C8"
      },
      "outputs": [],
      "source": [
        "!mkdir -p /root/.config/kaggle"
      ]
    },
    {
      "cell_type": "code",
      "execution_count": 59,
      "metadata": {
        "id": "k7N5AC40e2bV"
      },
      "outputs": [],
      "source": [
        "!mv kaggle.json /root/.config/kaggle/"
      ]
    },
    {
      "cell_type": "code",
      "execution_count": 60,
      "metadata": {
        "id": "e3-YNaDAe5jo"
      },
      "outputs": [],
      "source": [
        "!chmod 600 /root/.config/kaggle/kaggle.json"
      ]
    },
    {
      "cell_type": "code",
      "execution_count": 61,
      "metadata": {
        "colab": {
          "base_uri": "https://localhost:8080/"
        },
        "id": "O1oZjYs7e8J4",
        "outputId": "7bbab486-7ca1-4f9b-9626-dd57cceed51f"
      },
      "outputs": [
        {
          "name": "stdout",
          "output_type": "stream",
          "text": [
            "nlp-getting-started.zip: Skipping, found more recently modified local copy (use --force to force download)\n"
          ]
        }
      ],
      "source": [
        "!kaggle competitions download -c nlp-getting-started"
      ]
    },
    {
      "cell_type": "code",
      "execution_count": 62,
      "metadata": {
        "colab": {
          "base_uri": "https://localhost:8080/"
        },
        "id": "daGUqe9bfKHW",
        "outputId": "3a0a6017-427a-4700-f8d7-869dbf57ad35"
      },
      "outputs": [
        {
          "name": "stdout",
          "output_type": "stream",
          "text": [
            "replace sample_submission.csv? [y]es, [n]o, [A]ll, [N]one, [r]ename: y\n",
            "replace test.csv? [y]es, [n]o, [A]ll, [N]one, [r]ename: y\n",
            "replace train.csv? [y]es, [n]o, [A]ll, [N]one, [r]ename: y\n"
          ]
        }
      ],
      "source": [
        "!unzip -q nlp-getting-started.zip"
      ]
    },
    {
      "cell_type": "markdown",
      "metadata": {
        "id": "uEbKHbVGIRHU"
      },
      "source": [
        "## EDA"
      ]
    },
    {
      "cell_type": "code",
      "execution_count": 111,
      "metadata": {
        "colab": {
          "base_uri": "https://localhost:8080/"
        },
        "id": "_YWRFIfbffbY",
        "outputId": "f661689e-2c62-4b16-990c-271ed4c644e0"
      },
      "outputs": [
        {
          "name": "stderr",
          "output_type": "stream",
          "text": [
            "[nltk_data] Downloading package stopwords to /root/nltk_data...\n",
            "[nltk_data]   Package stopwords is already up-to-date!\n"
          ]
        }
      ],
      "source": [
        "import pandas as pd\n",
        "import numpy as np\n",
        "import itertools\n",
        "import matplotlib.pyplot as plt\n",
        "import seaborn as sns\n",
        "\n",
        "import nltk\n",
        "nltk.download('stopwords')\n",
        "from nltk.corpus import stopwords\n",
        "\n",
        "from sklearn.model_selection import train_test_split\n",
        "from sklearn.metrics import precision_score, recall_score, f1_score\n",
        "from sklearn.metrics import confusion_matrix, ConfusionMatrixDisplay\n",
        "\n",
        "from tensorflow.keras.preprocessing.text import Tokenizer\n",
        "from tensorflow.keras.preprocessing.sequence import pad_sequences\n",
        "from tensorflow.keras.models import Sequential\n",
        "from tensorflow.keras.layers import Embedding, SimpleRNN, LSTM, GRU, Dense, Dropout\n",
        "from tensorflow.keras.callbacks import ReduceLROnPlateau\n",
        "from tensorflow.keras.callbacks import ModelCheckpoint\n",
        "from tensorflow.keras.models import load_model"
      ]
    },
    {
      "cell_type": "markdown",
      "metadata": {
        "id": "bz0Sesh1hAsw"
      },
      "source": [
        "Let's view a snapshot of the training dataset. We see that each tweet (`text`) is labeled in the `target` column. For some tweets, a `keyword` and `location` are associated as well."
      ]
    },
    {
      "cell_type": "code",
      "execution_count": 144,
      "metadata": {
        "colab": {
          "base_uri": "https://localhost:8080/",
          "height": 677
        },
        "id": "nnxkvDTdfpmO",
        "outputId": "5b84ee7e-1919-4045-bd25-494173cf353e"
      },
      "outputs": [
        {
          "data": {
            "application/vnd.google.colaboratory.intrinsic+json": {
              "summary": "{\n  \"name\": \"train_df\",\n  \"rows\": 7613,\n  \"fields\": [\n    {\n      \"column\": \"id\",\n      \"properties\": {\n        \"dtype\": \"number\",\n        \"std\": 3137,\n        \"min\": 1,\n        \"max\": 10873,\n        \"num_unique_values\": 7613,\n        \"samples\": [\n          3796,\n          3185,\n          7769\n        ],\n        \"semantic_type\": \"\",\n        \"description\": \"\"\n      }\n    },\n    {\n      \"column\": \"keyword\",\n      \"properties\": {\n        \"dtype\": \"category\",\n        \"num_unique_values\": 221,\n        \"samples\": [\n          \"injury\",\n          \"nuclear%20reactor\",\n          \"engulfed\"\n        ],\n        \"semantic_type\": \"\",\n        \"description\": \"\"\n      }\n    },\n    {\n      \"column\": \"location\",\n      \"properties\": {\n        \"dtype\": \"category\",\n        \"num_unique_values\": 3341,\n        \"samples\": [\n          \"Oklahoma\",\n          \"Starling City\",\n          \"Trinidad and Tobago\"\n        ],\n        \"semantic_type\": \"\",\n        \"description\": \"\"\n      }\n    },\n    {\n      \"column\": \"text\",\n      \"properties\": {\n        \"dtype\": \"string\",\n        \"num_unique_values\": 7503,\n        \"samples\": [\n          \"Three Homes Demolished in Unrecognized Arab Village - International Middle East Media Center http://t.co/ik8m4Yi9T4\",\n          \"Reid Lake fire prompts campground evacuation order http://t.co/jBODKM6rBU\",\n          \"FAAN orders evacuation of abandoned aircraft at MMA http://t.co/dEvYbnVXGQ via @todayng\"\n        ],\n        \"semantic_type\": \"\",\n        \"description\": \"\"\n      }\n    },\n    {\n      \"column\": \"target\",\n      \"properties\": {\n        \"dtype\": \"number\",\n        \"std\": 0,\n        \"min\": 0,\n        \"max\": 1,\n        \"num_unique_values\": 2,\n        \"samples\": [\n          0,\n          1\n        ],\n        \"semantic_type\": \"\",\n        \"description\": \"\"\n      }\n    }\n  ]\n}",
              "type": "dataframe",
              "variable_name": "train_df"
            },
            "text/html": [
              "\n",
              "  <div id=\"df-02d626bd-2c20-4ed0-aea5-8fa5ac769c8f\" class=\"colab-df-container\">\n",
              "    <div>\n",
              "<style scoped>\n",
              "    .dataframe tbody tr th:only-of-type {\n",
              "        vertical-align: middle;\n",
              "    }\n",
              "\n",
              "    .dataframe tbody tr th {\n",
              "        vertical-align: top;\n",
              "    }\n",
              "\n",
              "    .dataframe thead th {\n",
              "        text-align: right;\n",
              "    }\n",
              "</style>\n",
              "<table border=\"1\" class=\"dataframe\">\n",
              "  <thead>\n",
              "    <tr style=\"text-align: right;\">\n",
              "      <th></th>\n",
              "      <th>id</th>\n",
              "      <th>keyword</th>\n",
              "      <th>location</th>\n",
              "      <th>text</th>\n",
              "      <th>target</th>\n",
              "    </tr>\n",
              "  </thead>\n",
              "  <tbody>\n",
              "    <tr>\n",
              "      <th>0</th>\n",
              "      <td>1</td>\n",
              "      <td>NaN</td>\n",
              "      <td>NaN</td>\n",
              "      <td>Our Deeds are the Reason of this #earthquake M...</td>\n",
              "      <td>1</td>\n",
              "    </tr>\n",
              "    <tr>\n",
              "      <th>1</th>\n",
              "      <td>4</td>\n",
              "      <td>NaN</td>\n",
              "      <td>NaN</td>\n",
              "      <td>Forest fire near La Ronge Sask. Canada</td>\n",
              "      <td>1</td>\n",
              "    </tr>\n",
              "    <tr>\n",
              "      <th>2</th>\n",
              "      <td>5</td>\n",
              "      <td>NaN</td>\n",
              "      <td>NaN</td>\n",
              "      <td>All residents asked to 'shelter in place' are ...</td>\n",
              "      <td>1</td>\n",
              "    </tr>\n",
              "    <tr>\n",
              "      <th>3</th>\n",
              "      <td>6</td>\n",
              "      <td>NaN</td>\n",
              "      <td>NaN</td>\n",
              "      <td>13,000 people receive #wildfires evacuation or...</td>\n",
              "      <td>1</td>\n",
              "    </tr>\n",
              "    <tr>\n",
              "      <th>4</th>\n",
              "      <td>7</td>\n",
              "      <td>NaN</td>\n",
              "      <td>NaN</td>\n",
              "      <td>Just got sent this photo from Ruby #Alaska as ...</td>\n",
              "      <td>1</td>\n",
              "    </tr>\n",
              "    <tr>\n",
              "      <th>5</th>\n",
              "      <td>8</td>\n",
              "      <td>NaN</td>\n",
              "      <td>NaN</td>\n",
              "      <td>#RockyFire Update =&gt; California Hwy. 20 closed...</td>\n",
              "      <td>1</td>\n",
              "    </tr>\n",
              "    <tr>\n",
              "      <th>6</th>\n",
              "      <td>10</td>\n",
              "      <td>NaN</td>\n",
              "      <td>NaN</td>\n",
              "      <td>#flood #disaster Heavy rain causes flash flood...</td>\n",
              "      <td>1</td>\n",
              "    </tr>\n",
              "    <tr>\n",
              "      <th>7</th>\n",
              "      <td>13</td>\n",
              "      <td>NaN</td>\n",
              "      <td>NaN</td>\n",
              "      <td>I'm on top of the hill and I can see a fire in...</td>\n",
              "      <td>1</td>\n",
              "    </tr>\n",
              "    <tr>\n",
              "      <th>8</th>\n",
              "      <td>14</td>\n",
              "      <td>NaN</td>\n",
              "      <td>NaN</td>\n",
              "      <td>There's an emergency evacuation happening now ...</td>\n",
              "      <td>1</td>\n",
              "    </tr>\n",
              "    <tr>\n",
              "      <th>9</th>\n",
              "      <td>15</td>\n",
              "      <td>NaN</td>\n",
              "      <td>NaN</td>\n",
              "      <td>I'm afraid that the tornado is coming to our a...</td>\n",
              "      <td>1</td>\n",
              "    </tr>\n",
              "    <tr>\n",
              "      <th>10</th>\n",
              "      <td>16</td>\n",
              "      <td>NaN</td>\n",
              "      <td>NaN</td>\n",
              "      <td>Three people died from the heat wave so far</td>\n",
              "      <td>1</td>\n",
              "    </tr>\n",
              "    <tr>\n",
              "      <th>11</th>\n",
              "      <td>17</td>\n",
              "      <td>NaN</td>\n",
              "      <td>NaN</td>\n",
              "      <td>Haha South Tampa is getting flooded hah- WAIT ...</td>\n",
              "      <td>1</td>\n",
              "    </tr>\n",
              "    <tr>\n",
              "      <th>12</th>\n",
              "      <td>18</td>\n",
              "      <td>NaN</td>\n",
              "      <td>NaN</td>\n",
              "      <td>#raining #flooding #Florida #TampaBay #Tampa 1...</td>\n",
              "      <td>1</td>\n",
              "    </tr>\n",
              "    <tr>\n",
              "      <th>13</th>\n",
              "      <td>19</td>\n",
              "      <td>NaN</td>\n",
              "      <td>NaN</td>\n",
              "      <td>#Flood in Bago Myanmar #We arrived Bago</td>\n",
              "      <td>1</td>\n",
              "    </tr>\n",
              "    <tr>\n",
              "      <th>14</th>\n",
              "      <td>20</td>\n",
              "      <td>NaN</td>\n",
              "      <td>NaN</td>\n",
              "      <td>Damage to school bus on 80 in multi car crash ...</td>\n",
              "      <td>1</td>\n",
              "    </tr>\n",
              "    <tr>\n",
              "      <th>15</th>\n",
              "      <td>23</td>\n",
              "      <td>NaN</td>\n",
              "      <td>NaN</td>\n",
              "      <td>What's up man?</td>\n",
              "      <td>0</td>\n",
              "    </tr>\n",
              "    <tr>\n",
              "      <th>16</th>\n",
              "      <td>24</td>\n",
              "      <td>NaN</td>\n",
              "      <td>NaN</td>\n",
              "      <td>I love fruits</td>\n",
              "      <td>0</td>\n",
              "    </tr>\n",
              "    <tr>\n",
              "      <th>17</th>\n",
              "      <td>25</td>\n",
              "      <td>NaN</td>\n",
              "      <td>NaN</td>\n",
              "      <td>Summer is lovely</td>\n",
              "      <td>0</td>\n",
              "    </tr>\n",
              "    <tr>\n",
              "      <th>18</th>\n",
              "      <td>26</td>\n",
              "      <td>NaN</td>\n",
              "      <td>NaN</td>\n",
              "      <td>My car is so fast</td>\n",
              "      <td>0</td>\n",
              "    </tr>\n",
              "    <tr>\n",
              "      <th>19</th>\n",
              "      <td>28</td>\n",
              "      <td>NaN</td>\n",
              "      <td>NaN</td>\n",
              "      <td>What a goooooooaaaaaal!!!!!!</td>\n",
              "      <td>0</td>\n",
              "    </tr>\n",
              "  </tbody>\n",
              "</table>\n",
              "</div>\n",
              "    <div class=\"colab-df-buttons\">\n",
              "\n",
              "  <div class=\"colab-df-container\">\n",
              "    <button class=\"colab-df-convert\" onclick=\"convertToInteractive('df-02d626bd-2c20-4ed0-aea5-8fa5ac769c8f')\"\n",
              "            title=\"Convert this dataframe to an interactive table.\"\n",
              "            style=\"display:none;\">\n",
              "\n",
              "  <svg xmlns=\"http://www.w3.org/2000/svg\" height=\"24px\" viewBox=\"0 -960 960 960\">\n",
              "    <path d=\"M120-120v-720h720v720H120Zm60-500h600v-160H180v160Zm220 220h160v-160H400v160Zm0 220h160v-160H400v160ZM180-400h160v-160H180v160Zm440 0h160v-160H620v160ZM180-180h160v-160H180v160Zm440 0h160v-160H620v160Z\"/>\n",
              "  </svg>\n",
              "    </button>\n",
              "\n",
              "  <style>\n",
              "    .colab-df-container {\n",
              "      display:flex;\n",
              "      gap: 12px;\n",
              "    }\n",
              "\n",
              "    .colab-df-convert {\n",
              "      background-color: #E8F0FE;\n",
              "      border: none;\n",
              "      border-radius: 50%;\n",
              "      cursor: pointer;\n",
              "      display: none;\n",
              "      fill: #1967D2;\n",
              "      height: 32px;\n",
              "      padding: 0 0 0 0;\n",
              "      width: 32px;\n",
              "    }\n",
              "\n",
              "    .colab-df-convert:hover {\n",
              "      background-color: #E2EBFA;\n",
              "      box-shadow: 0px 1px 2px rgba(60, 64, 67, 0.3), 0px 1px 3px 1px rgba(60, 64, 67, 0.15);\n",
              "      fill: #174EA6;\n",
              "    }\n",
              "\n",
              "    .colab-df-buttons div {\n",
              "      margin-bottom: 4px;\n",
              "    }\n",
              "\n",
              "    [theme=dark] .colab-df-convert {\n",
              "      background-color: #3B4455;\n",
              "      fill: #D2E3FC;\n",
              "    }\n",
              "\n",
              "    [theme=dark] .colab-df-convert:hover {\n",
              "      background-color: #434B5C;\n",
              "      box-shadow: 0px 1px 3px 1px rgba(0, 0, 0, 0.15);\n",
              "      filter: drop-shadow(0px 1px 2px rgba(0, 0, 0, 0.3));\n",
              "      fill: #FFFFFF;\n",
              "    }\n",
              "  </style>\n",
              "\n",
              "    <script>\n",
              "      const buttonEl =\n",
              "        document.querySelector('#df-02d626bd-2c20-4ed0-aea5-8fa5ac769c8f button.colab-df-convert');\n",
              "      buttonEl.style.display =\n",
              "        google.colab.kernel.accessAllowed ? 'block' : 'none';\n",
              "\n",
              "      async function convertToInteractive(key) {\n",
              "        const element = document.querySelector('#df-02d626bd-2c20-4ed0-aea5-8fa5ac769c8f');\n",
              "        const dataTable =\n",
              "          await google.colab.kernel.invokeFunction('convertToInteractive',\n",
              "                                                    [key], {});\n",
              "        if (!dataTable) return;\n",
              "\n",
              "        const docLinkHtml = 'Like what you see? Visit the ' +\n",
              "          '<a target=\"_blank\" href=https://colab.research.google.com/notebooks/data_table.ipynb>data table notebook</a>'\n",
              "          + ' to learn more about interactive tables.';\n",
              "        element.innerHTML = '';\n",
              "        dataTable['output_type'] = 'display_data';\n",
              "        await google.colab.output.renderOutput(dataTable, element);\n",
              "        const docLink = document.createElement('div');\n",
              "        docLink.innerHTML = docLinkHtml;\n",
              "        element.appendChild(docLink);\n",
              "      }\n",
              "    </script>\n",
              "  </div>\n",
              "\n",
              "\n",
              "    <div id=\"df-49c9d211-b4c0-4fc8-a66a-f90f525de12e\">\n",
              "      <button class=\"colab-df-quickchart\" onclick=\"quickchart('df-49c9d211-b4c0-4fc8-a66a-f90f525de12e')\"\n",
              "                title=\"Suggest charts\"\n",
              "                style=\"display:none;\">\n",
              "\n",
              "<svg xmlns=\"http://www.w3.org/2000/svg\" height=\"24px\"viewBox=\"0 0 24 24\"\n",
              "     width=\"24px\">\n",
              "    <g>\n",
              "        <path d=\"M19 3H5c-1.1 0-2 .9-2 2v14c0 1.1.9 2 2 2h14c1.1 0 2-.9 2-2V5c0-1.1-.9-2-2-2zM9 17H7v-7h2v7zm4 0h-2V7h2v10zm4 0h-2v-4h2v4z\"/>\n",
              "    </g>\n",
              "</svg>\n",
              "      </button>\n",
              "\n",
              "<style>\n",
              "  .colab-df-quickchart {\n",
              "      --bg-color: #E8F0FE;\n",
              "      --fill-color: #1967D2;\n",
              "      --hover-bg-color: #E2EBFA;\n",
              "      --hover-fill-color: #174EA6;\n",
              "      --disabled-fill-color: #AAA;\n",
              "      --disabled-bg-color: #DDD;\n",
              "  }\n",
              "\n",
              "  [theme=dark] .colab-df-quickchart {\n",
              "      --bg-color: #3B4455;\n",
              "      --fill-color: #D2E3FC;\n",
              "      --hover-bg-color: #434B5C;\n",
              "      --hover-fill-color: #FFFFFF;\n",
              "      --disabled-bg-color: #3B4455;\n",
              "      --disabled-fill-color: #666;\n",
              "  }\n",
              "\n",
              "  .colab-df-quickchart {\n",
              "    background-color: var(--bg-color);\n",
              "    border: none;\n",
              "    border-radius: 50%;\n",
              "    cursor: pointer;\n",
              "    display: none;\n",
              "    fill: var(--fill-color);\n",
              "    height: 32px;\n",
              "    padding: 0;\n",
              "    width: 32px;\n",
              "  }\n",
              "\n",
              "  .colab-df-quickchart:hover {\n",
              "    background-color: var(--hover-bg-color);\n",
              "    box-shadow: 0 1px 2px rgba(60, 64, 67, 0.3), 0 1px 3px 1px rgba(60, 64, 67, 0.15);\n",
              "    fill: var(--button-hover-fill-color);\n",
              "  }\n",
              "\n",
              "  .colab-df-quickchart-complete:disabled,\n",
              "  .colab-df-quickchart-complete:disabled:hover {\n",
              "    background-color: var(--disabled-bg-color);\n",
              "    fill: var(--disabled-fill-color);\n",
              "    box-shadow: none;\n",
              "  }\n",
              "\n",
              "  .colab-df-spinner {\n",
              "    border: 2px solid var(--fill-color);\n",
              "    border-color: transparent;\n",
              "    border-bottom-color: var(--fill-color);\n",
              "    animation:\n",
              "      spin 1s steps(1) infinite;\n",
              "  }\n",
              "\n",
              "  @keyframes spin {\n",
              "    0% {\n",
              "      border-color: transparent;\n",
              "      border-bottom-color: var(--fill-color);\n",
              "      border-left-color: var(--fill-color);\n",
              "    }\n",
              "    20% {\n",
              "      border-color: transparent;\n",
              "      border-left-color: var(--fill-color);\n",
              "      border-top-color: var(--fill-color);\n",
              "    }\n",
              "    30% {\n",
              "      border-color: transparent;\n",
              "      border-left-color: var(--fill-color);\n",
              "      border-top-color: var(--fill-color);\n",
              "      border-right-color: var(--fill-color);\n",
              "    }\n",
              "    40% {\n",
              "      border-color: transparent;\n",
              "      border-right-color: var(--fill-color);\n",
              "      border-top-color: var(--fill-color);\n",
              "    }\n",
              "    60% {\n",
              "      border-color: transparent;\n",
              "      border-right-color: var(--fill-color);\n",
              "    }\n",
              "    80% {\n",
              "      border-color: transparent;\n",
              "      border-right-color: var(--fill-color);\n",
              "      border-bottom-color: var(--fill-color);\n",
              "    }\n",
              "    90% {\n",
              "      border-color: transparent;\n",
              "      border-bottom-color: var(--fill-color);\n",
              "    }\n",
              "  }\n",
              "</style>\n",
              "\n",
              "      <script>\n",
              "        async function quickchart(key) {\n",
              "          const quickchartButtonEl =\n",
              "            document.querySelector('#' + key + ' button');\n",
              "          quickchartButtonEl.disabled = true;  // To prevent multiple clicks.\n",
              "          quickchartButtonEl.classList.add('colab-df-spinner');\n",
              "          try {\n",
              "            const charts = await google.colab.kernel.invokeFunction(\n",
              "                'suggestCharts', [key], {});\n",
              "          } catch (error) {\n",
              "            console.error('Error during call to suggestCharts:', error);\n",
              "          }\n",
              "          quickchartButtonEl.classList.remove('colab-df-spinner');\n",
              "          quickchartButtonEl.classList.add('colab-df-quickchart-complete');\n",
              "        }\n",
              "        (() => {\n",
              "          let quickchartButtonEl =\n",
              "            document.querySelector('#df-49c9d211-b4c0-4fc8-a66a-f90f525de12e button');\n",
              "          quickchartButtonEl.style.display =\n",
              "            google.colab.kernel.accessAllowed ? 'block' : 'none';\n",
              "        })();\n",
              "      </script>\n",
              "    </div>\n",
              "\n",
              "    </div>\n",
              "  </div>\n"
            ],
            "text/plain": [
              "    id keyword location                                               text  \\\n",
              "0    1     NaN      NaN  Our Deeds are the Reason of this #earthquake M...   \n",
              "1    4     NaN      NaN             Forest fire near La Ronge Sask. Canada   \n",
              "2    5     NaN      NaN  All residents asked to 'shelter in place' are ...   \n",
              "3    6     NaN      NaN  13,000 people receive #wildfires evacuation or...   \n",
              "4    7     NaN      NaN  Just got sent this photo from Ruby #Alaska as ...   \n",
              "5    8     NaN      NaN  #RockyFire Update => California Hwy. 20 closed...   \n",
              "6   10     NaN      NaN  #flood #disaster Heavy rain causes flash flood...   \n",
              "7   13     NaN      NaN  I'm on top of the hill and I can see a fire in...   \n",
              "8   14     NaN      NaN  There's an emergency evacuation happening now ...   \n",
              "9   15     NaN      NaN  I'm afraid that the tornado is coming to our a...   \n",
              "10  16     NaN      NaN        Three people died from the heat wave so far   \n",
              "11  17     NaN      NaN  Haha South Tampa is getting flooded hah- WAIT ...   \n",
              "12  18     NaN      NaN  #raining #flooding #Florida #TampaBay #Tampa 1...   \n",
              "13  19     NaN      NaN            #Flood in Bago Myanmar #We arrived Bago   \n",
              "14  20     NaN      NaN  Damage to school bus on 80 in multi car crash ...   \n",
              "15  23     NaN      NaN                                     What's up man?   \n",
              "16  24     NaN      NaN                                      I love fruits   \n",
              "17  25     NaN      NaN                                   Summer is lovely   \n",
              "18  26     NaN      NaN                                  My car is so fast   \n",
              "19  28     NaN      NaN                       What a goooooooaaaaaal!!!!!!   \n",
              "\n",
              "    target  \n",
              "0        1  \n",
              "1        1  \n",
              "2        1  \n",
              "3        1  \n",
              "4        1  \n",
              "5        1  \n",
              "6        1  \n",
              "7        1  \n",
              "8        1  \n",
              "9        1  \n",
              "10       1  \n",
              "11       1  \n",
              "12       1  \n",
              "13       1  \n",
              "14       1  \n",
              "15       0  \n",
              "16       0  \n",
              "17       0  \n",
              "18       0  \n",
              "19       0  "
            ]
          },
          "execution_count": 144,
          "metadata": {},
          "output_type": "execute_result"
        }
      ],
      "source": [
        "train_df = pd.read_csv('train.csv')\n",
        "test_df = pd.read_csv('test.csv')\n",
        "train_df.head(20)\n",
        "\n"
      ]
    },
    {
      "cell_type": "markdown",
      "metadata": {
        "id": "YjGVg9fbIfGr"
      },
      "source": [
        "Number of tweets in the training set"
      ]
    },
    {
      "cell_type": "code",
      "execution_count": 65,
      "metadata": {
        "colab": {
          "base_uri": "https://localhost:8080/"
        },
        "id": "iTJJ1h6fgsuz",
        "outputId": "fb339d47-452d-40cd-9474-113533581693"
      },
      "outputs": [
        {
          "data": {
            "text/plain": [
              "7613"
            ]
          },
          "execution_count": 65,
          "metadata": {},
          "output_type": "execute_result"
        }
      ],
      "source": [
        "len(train_df)"
      ]
    },
    {
      "cell_type": "markdown",
      "metadata": {
        "id": "QX4QyYxsEUbb"
      },
      "source": [
        "Average tweet length from the training set"
      ]
    },
    {
      "cell_type": "code",
      "execution_count": 66,
      "metadata": {
        "colab": {
          "base_uri": "https://localhost:8080/"
        },
        "id": "jcycBTVF4aj-",
        "outputId": "fe882c7a-fdab-468a-8ad4-a5966269162d"
      },
      "outputs": [
        {
          "data": {
            "text/plain": [
              "np.float64(15.0)"
            ]
          },
          "execution_count": 66,
          "metadata": {},
          "output_type": "execute_result"
        }
      ],
      "source": [
        "np.round(train_df['text'].apply(lambda x: len(x.split())).mean())"
      ]
    },
    {
      "cell_type": "markdown",
      "metadata": {
        "id": "Dc0xDc6VEbzy"
      },
      "source": [
        "Minimum tweet length"
      ]
    },
    {
      "cell_type": "code",
      "execution_count": 67,
      "metadata": {
        "colab": {
          "base_uri": "https://localhost:8080/"
        },
        "id": "xTc1SkBND0G2",
        "outputId": "70e6fe3b-64d6-4613-ded2-7b77a5f597ed"
      },
      "outputs": [
        {
          "data": {
            "text/plain": [
              "1"
            ]
          },
          "execution_count": 67,
          "metadata": {},
          "output_type": "execute_result"
        }
      ],
      "source": [
        "train_df['text'].apply(lambda x: len(x.split())).min()"
      ]
    },
    {
      "cell_type": "markdown",
      "metadata": {
        "id": "N892vMr7EfC2"
      },
      "source": [
        "Maximum tweet length"
      ]
    },
    {
      "cell_type": "code",
      "execution_count": 68,
      "metadata": {
        "colab": {
          "base_uri": "https://localhost:8080/"
        },
        "id": "lYJWiJnGDsHh",
        "outputId": "78e89b74-3218-42cf-86ee-49977af2e57a"
      },
      "outputs": [
        {
          "data": {
            "text/plain": [
              "31"
            ]
          },
          "execution_count": 68,
          "metadata": {},
          "output_type": "execute_result"
        }
      ],
      "source": [
        "MAX_SEQUENCE_LENGTH = train_df['text'].apply(lambda x: len(x.split())).max()\n",
        "MAX_SEQUENCE_LENGTH"
      ]
    },
    {
      "cell_type": "markdown",
      "metadata": {
        "id": "OVmBbuapgrLw"
      },
      "source": [
        "Distribution of tweet lengths"
      ]
    },
    {
      "cell_type": "code",
      "execution_count": 69,
      "metadata": {
        "colab": {
          "base_uri": "https://localhost:8080/",
          "height": 448
        },
        "id": "J8Yhc6pp8Ac0",
        "outputId": "c097e22a-1520-4e53-b8ba-c2909c7ab5ae"
      },
      "outputs": [
        {
          "data": {
            "text/plain": [
              "<Axes: >"
            ]
          },
          "execution_count": 69,
          "metadata": {},
          "output_type": "execute_result"
        },
        {
          "data": {
            "image/png": "[encoded data removed]",
            "text/plain": [
              "<Figure size 640x480 with 1 Axes>"
            ]
          },
          "metadata": {},
          "output_type": "display_data"
        }
      ],
      "source": [
        "train_df['text'].apply(lambda x: len(x.split())).hist()"
      ]
    },
    {
      "cell_type": "markdown",
      "metadata": {
        "id": "jh6xLJ-MizLK"
      },
      "source": [
        "There are 221 unique values in the `keyword` column."
      ]
    },
    {
      "cell_type": "code",
      "execution_count": 70,
      "metadata": {
        "colab": {
          "base_uri": "https://localhost:8080/",
          "height": 490
        },
        "id": "DnWS9HmukT2n",
        "outputId": "0588559d-b82a-4a01-c74b-52b1f8c3a8b9"
      },
      "outputs": [
        {
          "data": {
            "text/html": [
              "<div>\n",
              "<style scoped>\n",
              "    .dataframe tbody tr th:only-of-type {\n",
              "        vertical-align: middle;\n",
              "    }\n",
              "\n",
              "    .dataframe tbody tr th {\n",
              "        vertical-align: top;\n",
              "    }\n",
              "\n",
              "    .dataframe thead th {\n",
              "        text-align: right;\n",
              "    }\n",
              "</style>\n",
              "<table border=\"1\" class=\"dataframe\">\n",
              "  <thead>\n",
              "    <tr style=\"text-align: right;\">\n",
              "      <th></th>\n",
              "      <th>count</th>\n",
              "    </tr>\n",
              "    <tr>\n",
              "      <th>keyword</th>\n",
              "      <th></th>\n",
              "    </tr>\n",
              "  </thead>\n",
              "  <tbody>\n",
              "    <tr>\n",
              "      <th>fatalities</th>\n",
              "      <td>45</td>\n",
              "    </tr>\n",
              "    <tr>\n",
              "      <th>deluge</th>\n",
              "      <td>42</td>\n",
              "    </tr>\n",
              "    <tr>\n",
              "      <th>armageddon</th>\n",
              "      <td>42</td>\n",
              "    </tr>\n",
              "    <tr>\n",
              "      <th>damage</th>\n",
              "      <td>41</td>\n",
              "    </tr>\n",
              "    <tr>\n",
              "      <th>body%20bags</th>\n",
              "      <td>41</td>\n",
              "    </tr>\n",
              "    <tr>\n",
              "      <th>...</th>\n",
              "      <td>...</td>\n",
              "    </tr>\n",
              "    <tr>\n",
              "      <th>forest%20fire</th>\n",
              "      <td>19</td>\n",
              "    </tr>\n",
              "    <tr>\n",
              "      <th>epicentre</th>\n",
              "      <td>12</td>\n",
              "    </tr>\n",
              "    <tr>\n",
              "      <th>threat</th>\n",
              "      <td>11</td>\n",
              "    </tr>\n",
              "    <tr>\n",
              "      <th>inundation</th>\n",
              "      <td>10</td>\n",
              "    </tr>\n",
              "    <tr>\n",
              "      <th>radiation%20emergency</th>\n",
              "      <td>9</td>\n",
              "    </tr>\n",
              "  </tbody>\n",
              "</table>\n",
              "<p>221 rows × 1 columns</p>\n",
              "</div><br><label><b>dtype:</b> int64</label>"
            ],
            "text/plain": [
              "keyword\n",
              "fatalities               45\n",
              "deluge                   42\n",
              "armageddon               42\n",
              "damage                   41\n",
              "body%20bags              41\n",
              "                         ..\n",
              "forest%20fire            19\n",
              "epicentre                12\n",
              "threat                   11\n",
              "inundation               10\n",
              "radiation%20emergency     9\n",
              "Name: count, Length: 221, dtype: int64"
            ]
          },
          "execution_count": 70,
          "metadata": {},
          "output_type": "execute_result"
        }
      ],
      "source": [
        "train_df['keyword'].value_counts()"
      ]
    },
    {
      "cell_type": "markdown",
      "metadata": {
        "id": "ggfcSqlHjaQY"
      },
      "source": [
        "The `location` column has 3,341 unique values."
      ]
    },
    {
      "cell_type": "code",
      "execution_count": 71,
      "metadata": {
        "colab": {
          "base_uri": "https://localhost:8080/",
          "height": 490
        },
        "id": "5oGD8ksJkpeF",
        "outputId": "2eb494e8-ac78-4ba1-f3a7-cfdb3c6679c3"
      },
      "outputs": [
        {
          "data": {
            "text/html": [
              "<div>\n",
              "<style scoped>\n",
              "    .dataframe tbody tr th:only-of-type {\n",
              "        vertical-align: middle;\n",
              "    }\n",
              "\n",
              "    .dataframe tbody tr th {\n",
              "        vertical-align: top;\n",
              "    }\n",
              "\n",
              "    .dataframe thead th {\n",
              "        text-align: right;\n",
              "    }\n",
              "</style>\n",
              "<table border=\"1\" class=\"dataframe\">\n",
              "  <thead>\n",
              "    <tr style=\"text-align: right;\">\n",
              "      <th></th>\n",
              "      <th>count</th>\n",
              "    </tr>\n",
              "    <tr>\n",
              "      <th>location</th>\n",
              "      <th></th>\n",
              "    </tr>\n",
              "  </thead>\n",
              "  <tbody>\n",
              "    <tr>\n",
              "      <th>USA</th>\n",
              "      <td>104</td>\n",
              "    </tr>\n",
              "    <tr>\n",
              "      <th>New York</th>\n",
              "      <td>71</td>\n",
              "    </tr>\n",
              "    <tr>\n",
              "      <th>United States</th>\n",
              "      <td>50</td>\n",
              "    </tr>\n",
              "    <tr>\n",
              "      <th>London</th>\n",
              "      <td>45</td>\n",
              "    </tr>\n",
              "    <tr>\n",
              "      <th>Canada</th>\n",
              "      <td>29</td>\n",
              "    </tr>\n",
              "    <tr>\n",
              "      <th>...</th>\n",
              "      <td>...</td>\n",
              "    </tr>\n",
              "    <tr>\n",
              "      <th>Silesia, Poland</th>\n",
              "      <td>1</td>\n",
              "    </tr>\n",
              "    <tr>\n",
              "      <th>Hickville, USA</th>\n",
              "      <td>1</td>\n",
              "    </tr>\n",
              "    <tr>\n",
              "      <th>New York NYC</th>\n",
              "      <td>1</td>\n",
              "    </tr>\n",
              "    <tr>\n",
              "      <th>Valle Del Sol</th>\n",
              "      <td>1</td>\n",
              "    </tr>\n",
              "    <tr>\n",
              "      <th>todaysbigstock.com</th>\n",
              "      <td>1</td>\n",
              "    </tr>\n",
              "  </tbody>\n",
              "</table>\n",
              "<p>3341 rows × 1 columns</p>\n",
              "</div><br><label><b>dtype:</b> int64</label>"
            ],
            "text/plain": [
              "location\n",
              "USA                   104\n",
              "New York               71\n",
              "United States          50\n",
              "London                 45\n",
              "Canada                 29\n",
              "                     ... \n",
              "Silesia, Poland         1\n",
              "Hickville, USA          1\n",
              "New York NYC            1\n",
              "Valle Del Sol           1\n",
              "todaysbigstock.com      1\n",
              "Name: count, Length: 3341, dtype: int64"
            ]
          },
          "execution_count": 71,
          "metadata": {},
          "output_type": "execute_result"
        }
      ],
      "source": [
        "train_df['location'].value_counts()"
      ]
    },
    {
      "cell_type": "markdown",
      "metadata": {
        "id": "H7JT-IjLjxK3"
      },
      "source": [
        "The distriution of `1` and `0` in the `target` column is slightly skewed toward `0` (no disaster). We'll have to make sure that the train and validation sets preserve this distribution."
      ]
    },
    {
      "cell_type": "code",
      "execution_count": 72,
      "metadata": {
        "colab": {
          "base_uri": "https://localhost:8080/",
          "height": 178
        },
        "id": "Q9RBSIs0FCap",
        "outputId": "55754af8-1482-4d6f-cc10-b456c6023ded"
      },
      "outputs": [
        {
          "data": {
            "text/html": [
              "<div>\n",
              "<style scoped>\n",
              "    .dataframe tbody tr th:only-of-type {\n",
              "        vertical-align: middle;\n",
              "    }\n",
              "\n",
              "    .dataframe tbody tr th {\n",
              "        vertical-align: top;\n",
              "    }\n",
              "\n",
              "    .dataframe thead th {\n",
              "        text-align: right;\n",
              "    }\n",
              "</style>\n",
              "<table border=\"1\" class=\"dataframe\">\n",
              "  <thead>\n",
              "    <tr style=\"text-align: right;\">\n",
              "      <th></th>\n",
              "      <th>count</th>\n",
              "    </tr>\n",
              "    <tr>\n",
              "      <th>target</th>\n",
              "      <th></th>\n",
              "    </tr>\n",
              "  </thead>\n",
              "  <tbody>\n",
              "    <tr>\n",
              "      <th>0</th>\n",
              "      <td>4342</td>\n",
              "    </tr>\n",
              "    <tr>\n",
              "      <th>1</th>\n",
              "      <td>3271</td>\n",
              "    </tr>\n",
              "  </tbody>\n",
              "</table>\n",
              "</div><br><label><b>dtype:</b> int64</label>"
            ],
            "text/plain": [
              "target\n",
              "0    4342\n",
              "1    3271\n",
              "Name: count, dtype: int64"
            ]
          },
          "execution_count": 72,
          "metadata": {},
          "output_type": "execute_result"
        }
      ],
      "source": [
        "train_df['target'].value_counts()"
      ]
    },
    {
      "cell_type": "code",
      "execution_count": 73,
      "metadata": {
        "colab": {
          "base_uri": "https://localhost:8080/",
          "height": 340
        },
        "id": "E8xqM_NtFVoS",
        "outputId": "0dfe4550-4c6f-4d25-866d-db73ca879114"
      },
      "outputs": [
        {
          "data": {
            "image/png": "[encoded data removed]",
            "text/plain": [
              "<Figure size 1000x400 with 1 Axes>"
            ]
          },
          "metadata": {},
          "output_type": "display_data"
        }
      ],
      "source": [
        "plt.figure(figsize=(10, 4))\n",
        "sns.countplot(data=train_df, x=\"target\", order=train_df['target'].value_counts().index, hue='target')\n",
        "plt.title(\"Distribution of 1 (disaster) and 0 (no disaster) tweet labels\")\n",
        "plt.tight_layout()\n",
        "plt.show()"
      ]
    },
    {
      "cell_type": "markdown",
      "metadata": {
        "id": "spxZuGtv98kF"
      },
      "source": [
        "## Data Cleaning"
      ]
    },
    {
      "cell_type": "markdown",
      "metadata": {
        "id": "PL-2WCrb4UAZ"
      },
      "source": [
        "Let's look at the top 30 words in the `train_df.text` column. As you can see, these are dominated by [stop words](https://en.wikipedia.org/wiki/Stop_word#:~:text=Stop%20words%20are%20the%20words,because%20they%20are%20deemed%20insignificant)."
      ]
    },
    {
      "cell_type": "code",
      "execution_count": 145,
      "metadata": {
        "colab": {
          "base_uri": "https://localhost:8080/"
        },
        "id": "2047dfa4",
        "outputId": "902289a0-865e-489c-8624-b8cc56c6b143"
      },
      "outputs": [
        {
          "name": "stdout",
          "output_type": "stream",
          "text": [
            "30 most common words in train_df['text'] before stop word removal:\n",
            "the      2575\n",
            "a        1845\n",
            "to       1805\n",
            "in       1757\n",
            "of       1722\n",
            "and      1302\n",
            "I        1197\n",
            "for       820\n",
            "is        814\n",
            "on        773\n",
            "-         763\n",
            "you       632\n",
            "The       552\n",
            "my        549\n",
            "with      508\n",
            "that      492\n",
            "at        485\n",
            "by        469\n",
            "it        433\n",
            "from      372\n",
            "be        371\n",
            "was       363\n",
            "have      353\n",
            "are       345\n",
            "this      335\n",
            "like      318\n",
            "&amp;     295\n",
            "A         290\n",
            "as        282\n",
            "just      258\n",
            "Name: count, dtype: int64\n"
          ]
        }
      ],
      "source": [
        "# Split each text into words and stack them into a single pandas series\n",
        "all_words_series = train_df['text'].str.split(expand=True).stack()\n",
        "\n",
        "top_30_words = all_words_series.value_counts().head(30)\n",
        "\n",
        "print(\"30 most common words in train_df['text'] before stop word removal:\")\n",
        "print(top_30_words)"
      ]
    },
    {
      "cell_type": "markdown",
      "metadata": {
        "id": "iTLgXX5w554x"
      },
      "source": [
        "Let's use the `nltk` package to remove stop words from the `train_df.text` column."
      ]
    },
    {
      "cell_type": "code",
      "execution_count": 146,
      "metadata": {
        "id": "ureY5KHV43My"
      },
      "outputs": [],
      "source": [
        "stop_words = set(stopwords.words('english'))\n",
        "\n",
        "def remove_stopwords(text):\n",
        "    # Split the text into words\n",
        "    words = text.split()\n",
        "    # Remove stop words\n",
        "    filtered_words = [word for word in words if word.lower() not in stop_words]\n",
        "    # Join the words back into a string\n",
        "    return \" \".join(filtered_words)\n",
        "\n",
        "# Apply stop word removal to the 'text' column in both train and test DataFrames\n",
        "train_df['text'] = train_df['text'].apply(remove_stopwords)\n",
        "test_df['text'] = test_df['text'].apply(remove_stopwords)\n"
      ]
    },
    {
      "cell_type": "markdown",
      "metadata": {
        "id": "VIuwsL-N5-1Q"
      },
      "source": [
        "We see that the top words (tokens) are now quite different. I compared the model training with and without stop word removal, and I saw a slight improvement from removing stop words, so we will keep these \"cleaned\" versions of the datasets."
      ]
    },
    {
      "cell_type": "code",
      "execution_count": 147,
      "metadata": {
        "colab": {
          "base_uri": "https://localhost:8080/"
        },
        "id": "8gvQBG1l5h-9",
        "outputId": "ab0223ce-9b6e-44bc-a319-42cc2c9e35f6"
      },
      "outputs": [
        {
          "name": "stdout",
          "output_type": "stream",
          "text": [
            "30 most common words in train_df['text'] after stop word removal:\n",
            "-             763\n",
            "like          318\n",
            "&amp;         295\n",
            "??            214\n",
            "via           208\n",
            "get           183\n",
            "fire          148\n",
            "...           147\n",
            "people        146\n",
            "2             145\n",
            "|             142\n",
            "one           142\n",
            "would         116\n",
            "new           105\n",
            "got           103\n",
            "New            98\n",
            "????           96\n",
            "know           96\n",
            "video          93\n",
            "going          91\n",
            "killed         89\n",
            "California     89\n",
            "still          88\n",
            "burning        86\n",
            "see            85\n",
            "back           85\n",
            "@YouTube       82\n",
            "go             81\n",
            "3              81\n",
            "RT             80\n",
            "Name: count, dtype: int64\n"
          ]
        }
      ],
      "source": [
        "all_words_series = train_df['text'].str.split(expand=True).stack()\n",
        "\n",
        "top_30_words = all_words_series.value_counts().head(30)\n",
        "\n",
        "print(\"30 most common words in train_df['text'] after stop word removal:\")\n",
        "print(top_30_words)"
      ]
    },
    {
      "cell_type": "markdown",
      "metadata": {
        "id": "1xDRTzIU_-vR"
      },
      "source": [
        "## Import Pre-trained Embeddings"
      ]
    },
    {
      "cell_type": "markdown",
      "metadata": {
        "id": "bkiObCD6Akks"
      },
      "source": [
        "I decided to use [GloVe](https://nlp.stanford.edu/projects/glove/) pre-trained word embeddings as a foundation for training the RNN models (see https://keras.io/examples/nlp/pretrained_word_embeddings/). These are vectorizations of words (tokens) learned from a large corpus of text (Wikipedia and Gigaword data). I chose a dimension of 100 for the vectors as a tradeoff between depth of semantic relationships and model training efficiency."
      ]
    },
    {
      "cell_type": "code",
      "execution_count": 77,
      "metadata": {
        "colab": {
          "base_uri": "https://localhost:8080/"
        },
        "id": "0PvoH_1JAEht",
        "outputId": "d4cff411-1310-43ba-9e19-a03cc1154553"
      },
      "outputs": [
        {
          "name": "stdout",
          "output_type": "stream",
          "text": [
            "  % Total    % Received % Xferd  Average Speed   Time    Time     Time  Current\n",
            "                                 Dload  Upload   Total   Spent    Left  Speed\n",
            "  0   371    0     0    0     0      0      0 --:--:-- --:--:-- --:--:--     0\n",
            "100  554M  100  554M    0     0  5243k      0  0:01:48  0:01:48 --:--:-- 5047k\n"
          ]
        }
      ],
      "source": [
        "!curl -L -O https://nlp.stanford.edu/data/wordvecs/glove.2024.wikigiga.100d.zip"
      ]
    },
    {
      "cell_type": "code",
      "execution_count": 78,
      "metadata": {
        "colab": {
          "base_uri": "https://localhost:8080/"
        },
        "id": "HaPAMO04BHGE",
        "outputId": "813ec672-98e1-4bd9-af00-d2afcc607d4c"
      },
      "outputs": [
        {
          "name": "stdout",
          "output_type": "stream",
          "text": [
            "Archive:  glove.2024.wikigiga.100d.zip\n",
            "replace wiki_giga_2024_100_MFT20_vectors_seed_2024_alpha_0.75_eta_0.05.050_combined.txt? [y]es, [n]o, [A]ll, [N]one, [r]ename: y\n",
            "  inflating: wiki_giga_2024_100_MFT20_vectors_seed_2024_alpha_0.75_eta_0.05.050_combined.txt  \n"
          ]
        }
      ],
      "source": [
        "!unzip glove.2024.wikigiga.100d.zip"
      ]
    },
    {
      "cell_type": "markdown",
      "metadata": {
        "id": "ISYiHFHrxBfn"
      },
      "source": [
        "`glove_dict` has the tokens as keys and their associated 100-dimensional vectors as values. Tokens can be words, parts of words, and also punctuation."
      ]
    },
    {
      "cell_type": "code",
      "execution_count": 79,
      "metadata": {
        "colab": {
          "base_uri": "https://localhost:8080/"
        },
        "id": "STa7EboXgSwV",
        "outputId": "940479f1-ea85-4481-f8a1-d065d168a127"
      },
      "outputs": [
        {
          "name": "stdout",
          "output_type": "stream",
          "text": [
            "Total number of lines in the GloVe file before pruning: 1291147.\n",
            "Total lines skipped from the original GloVe file: 3533.\n"
          ]
        },
        {
          "data": {
            "text/plain": [
              "{'the': array([ 0.306717, -0.32053 , -0.393647,  0.082826,  0.073522, -0.409154,\n",
              "        -0.265564, -0.23694 , -0.305832,  0.74529 ,  0.214341,  0.276781,\n",
              "        -0.152797, -0.127524,  0.119525,  0.640965, -0.175869,  0.160711,\n",
              "         0.477978, -0.160939, -0.150093,  0.674601, -0.099565,  0.021882,\n",
              "        -0.032771,  0.368641, -0.087019, -0.133326,  0.170143,  0.156934,\n",
              "         0.677506, -0.099686,  0.392113,  0.373434, -5.736062,  0.413845,\n",
              "         0.477368, -0.041697,  0.383109,  0.120152, -0.20947 ,  0.605104,\n",
              "         0.236353,  0.151131, -0.508865,  0.671239, -0.300263, -0.267927,\n",
              "         2.549487,  0.067177,  0.217224, -0.031316,  0.05231 ,  0.119321,\n",
              "        -0.332154, -0.807904, -0.546453, -0.044392, -0.281657,  0.286647,\n",
              "         0.325775, -0.02196 , -0.636903, -0.268063,  0.247956, -0.402493,\n",
              "         0.276707, -0.275139,  0.201159,  0.082844,  0.591695, -0.017127,\n",
              "        -0.092269,  0.392008,  0.078245, -0.049907,  0.235151,  0.457376,\n",
              "        -0.111987, -0.05691 ,  0.065092,  0.106512,  0.98337 ,  0.608167,\n",
              "        -0.250386, -0.44968 ,  0.185177,  0.056664,  0.296632, -0.244439,\n",
              "        -0.019507,  0.324114,  0.460377, -0.041331, -0.333933,  0.062373,\n",
              "        -0.114783,  0.127164, -0.029899,  0.247113], dtype=float32),\n",
              " ',': array([ 0.022532,  0.320788, -0.295389,  0.61206 ,  0.767145,  0.266352,\n",
              "        -0.215857,  0.027512, -0.364298,  0.37444 ,  0.229598,  0.097367,\n",
              "        -0.175404, -0.133931,  0.047809, -0.219339, -0.028425, -0.213325,\n",
              "        -0.694809, -0.363699,  0.007584,  0.174892, -0.25993 ,  0.484391,\n",
              "        -0.03788 ,  0.127688, -0.225859,  0.015318, -0.096416,  0.114128,\n",
              "        -0.419879,  0.348794, -0.502019,  0.154648, -4.866347,  0.302259,\n",
              "         0.035923,  0.338694, -0.203098,  0.046164, -0.091784,  0.242868,\n",
              "         0.26193 ,  0.368461,  0.066353,  1.207422,  0.222561,  0.17989 ,\n",
              "         2.780558,  0.055385,  0.379366, -0.38585 , -0.335466,  0.03431 ,\n",
              "        -0.419285,  0.031211, -0.017716,  0.232   ,  0.5564  , -0.132798,\n",
              "         0.016859, -0.231334,  0.194549, -0.051672, -0.200493,  0.105923,\n",
              "         0.058381,  0.25366 , -0.306578, -0.036054, -0.195459,  0.008589,\n",
              "         0.388561, -0.3172  , -0.270205,  0.036092,  0.018797, -0.205368,\n",
              "        -0.006507,  0.071884, -0.098216,  0.183838,  0.009168,  0.550536,\n",
              "         0.611872,  0.152103, -0.012454, -0.291144, -0.3148  ,  0.141704,\n",
              "        -0.31404 ,  0.093639, -0.251115, -0.505637, -0.538312, -0.422704,\n",
              "        -0.680767,  0.155399,  0.324172,  0.068977], dtype=float32),\n",
              " '.': array([-0.075626,  0.369955, -0.349095, -0.030794,  0.258182, -0.09033 ,\n",
              "        -0.121666, -0.16774 ,  0.133821,  0.227888, -0.139152, -0.118993,\n",
              "         0.170359,  0.298366,  0.027397,  0.337818,  0.161594, -0.191168,\n",
              "        -0.143153, -0.181194, -0.080677,  0.256582, -0.091691,  0.127094,\n",
              "        -0.123001,  0.244144, -0.370986,  0.130183, -0.085863, -0.124973,\n",
              "         0.06433 ,  0.669755,  0.051222,  0.14919 , -5.154602,  0.298214,\n",
              "         0.232853, -0.173202,  0.087315, -0.259364, -0.615115,  0.060212,\n",
              "         0.217021,  0.091523, -0.056061,  1.096216,  0.140408, -0.199139,\n",
              "         2.462894, -0.330588,  0.390039, -0.151522, -0.269224, -0.098741,\n",
              "        -0.413607, -0.241679, -0.449461, -0.060261,  0.059852,  0.218875,\n",
              "         0.181976, -0.308204, -0.075567, -0.244669,  0.159886, -0.079245,\n",
              "         0.041882,  0.172763, -0.037951, -0.220034, -0.229537,  0.173499,\n",
              "        -0.2658  , -0.253259, -0.217682, -0.393058, -0.128988,  0.179841,\n",
              "        -0.122266,  0.142645,  0.094697, -0.023774, -0.456714,  0.9317  ,\n",
              "        -0.092499,  0.175973,  0.092606,  0.260041,  0.551341, -0.220654,\n",
              "         0.172405,  0.213564, -0.088774, -0.034802, -0.351306, -0.071182,\n",
              "        -0.100457,  0.088199,  0.170288,  0.257782], dtype=float32)}"
            ]
          },
          "execution_count": 79,
          "metadata": {},
          "output_type": "execute_result"
        }
      ],
      "source": [
        "EMBEDDING_DIMENSION = 100\n",
        "glove_file = 'wiki_giga_2024_100_MFT20_vectors_seed_2024_alpha_0.75_eta_0.05.050_combined.txt'\n",
        "glove_dict = {}\n",
        "num_lines_skipped = 0\n",
        "with open(glove_file, 'r', encoding='utf-8') as f:\n",
        "    total_number_lines = len(f.readlines())\n",
        "    print(f\"Total number of lines in the GloVe file before pruning: {total_number_lines}.\")\n",
        "with open(glove_file, 'r', encoding='utf-8') as f:\n",
        "    for line in f:\n",
        "        line_split_list = line.split()\n",
        "        token = line_split_list[0]\n",
        "        try:\n",
        "            embedding = np.array(line_split_list[1:], dtype='float32')\n",
        "            if len(embedding) == EMBEDDING_DIMENSION:\n",
        "                glove_dict[token] = embedding\n",
        "            else:\n",
        "                num_lines_skipped += 1\n",
        "        except ValueError:\n",
        "            num_lines_skipped += 1\n",
        "            continue\n",
        "\n",
        "print(f\"Total lines skipped from the original GloVe file: {num_lines_skipped}.\")\n",
        "first_3_items = dict(itertools.islice(glove_dict.items(), 3))\n",
        "first_3_items"
      ]
    },
    {
      "cell_type": "markdown",
      "metadata": {
        "id": "NKGI_JrRyRm0"
      },
      "source": [
        "The `Tokenizer()` object from Keras is used to assign integers to each unique token in the `train_df.text` column."
      ]
    },
    {
      "cell_type": "code",
      "execution_count": 80,
      "metadata": {
        "colab": {
          "base_uri": "https://localhost:8080/"
        },
        "id": "qxGAF1Ar6L4w",
        "outputId": "30e92057-a5b9-4754-f356-ca5ccd02312d"
      },
      "outputs": [
        {
          "name": "stdout",
          "output_type": "stream",
          "text": [
            "Token: Index from disaster tweets\n",
            "t: 1\n",
            "co: 2\n",
            "http: 3\n",
            "https: 4\n",
            "like: 5\n",
            "amp: 6\n",
            "fire: 7\n",
            "get: 8\n",
            "new: 9\n",
            "via: 10\n",
            "\n",
            "Total vocabulary size is 22653.\n"
          ]
        }
      ],
      "source": [
        "tokenizer = Tokenizer()\n",
        "tokenizer.fit_on_texts(train_df['text'])\n",
        "word_index = tokenizer.word_index\n",
        "VOCAB_SIZE = len(word_index) + 1 # Add one for keras padding token\n",
        "\n",
        "print(\"Token: Index from disaster tweets\")\n",
        "for word, index in list(word_index.items())[:10]:\n",
        "    print(f\"{word}: {index}\")\n",
        "\n",
        "print(f\"\\nTotal vocabulary size is {VOCAB_SIZE}.\")"
      ]
    },
    {
      "cell_type": "markdown",
      "metadata": {
        "id": "L9Z6KvqfzDGB"
      },
      "source": [
        "`embedding_matrix` is formed by placing vectors for tokens that exist in `glove_dict` into the row indexed by the integer in the `word_index` dictionary (from `Tokenizer()`). If a word from `word_index` is not in `glove_dict`, then the row at that index remains full of zeroes. Later, we will make adjustments to these embedding vectors as they are treated like weights modified through backpropagation."
      ]
    },
    {
      "cell_type": "code",
      "execution_count": 81,
      "metadata": {
        "colab": {
          "base_uri": "https://localhost:8080/"
        },
        "id": "tYOc3Hr-_26y",
        "outputId": "f15d8756-60f0-4895-a0bc-03f21defe886"
      },
      "outputs": [
        {
          "name": "stdout",
          "output_type": "stream",
          "text": [
            "Shape of embedding matrix: (22653, 100)\n",
            "Number of tokens not found in the GloVe file: 9614\n",
            "First 10 tokens not found: [\"can't\", '\\x89û', \"that's\", 'gonna', '\\x89ûò', \"there's\", \"'the\", \"legionnaires'\", 'prebreak', '16yr']\n"
          ]
        }
      ],
      "source": [
        "embedding_matrix = np.zeros((VOCAB_SIZE, EMBEDDING_DIMENSION))\n",
        "\n",
        "words_not_found = []\n",
        "for word, index in word_index.items():\n",
        "    embedding_vector = glove_dict.get(word)\n",
        "    if embedding_vector is not None:\n",
        "        embedding_matrix[index] = embedding_vector\n",
        "    else:\n",
        "        words_not_found.append(word)\n",
        "\n",
        "print(f\"Shape of embedding matrix: {embedding_matrix.shape}\")\n",
        "print(f\"Number of tokens not found in the GloVe file: {len(words_not_found)}\")\n",
        "\n",
        "print(f\"First 10 tokens not found: {words_not_found[:10]}\")"
      ]
    },
    {
      "cell_type": "markdown",
      "metadata": {
        "id": "yf9CntFjGSpM"
      },
      "source": [
        "## Model Training"
      ]
    },
    {
      "cell_type": "markdown",
      "metadata": {
        "id": "FQ_OweP41y-4"
      },
      "source": [
        "Because the tweets do not all have the same length, we need to pad them by 0 and give them a uniform length. The tweet vectors are placed into the rows of a matrix (`X`). Each non-zero element in the vectors is an integer representing a token (i.e. a row index) from `embedding_matrix`.\n",
        "\n",
        "We also create a vector of the `target` values we'll call `y`."
      ]
    },
    {
      "cell_type": "code",
      "execution_count": 82,
      "metadata": {
        "colab": {
          "base_uri": "https://localhost:8080/"
        },
        "id": "uFECwhM4GV-S",
        "outputId": "aaa7f1bf-6c3d-401d-83e9-974bc8934cf7"
      },
      "outputs": [
        {
          "name": "stdout",
          "output_type": "stream",
          "text": [
            "Shape of data matrix (X): (7613, 31)\n",
            "Shape of label vector (y): (7613,)\n"
          ]
        }
      ],
      "source": [
        "# Convert tweets into sequences of integers (for embedding vector lookup)\n",
        "sequences = tokenizer.texts_to_sequences(train_df['text'])\n",
        "\n",
        "# Pad sequences so they are all the max length from the tweets\n",
        "X = pad_sequences(sequences, maxlen=MAX_SEQUENCE_LENGTH)\n",
        "\n",
        "# Define training label vector\n",
        "y = np.array(train_df['target'])\n",
        "\n",
        "print(\"Shape of data matrix (X):\", X.shape)\n",
        "print(\"Shape of label vector (y):\", y.shape)"
      ]
    },
    {
      "cell_type": "code",
      "execution_count": 83,
      "metadata": {
        "colab": {
          "base_uri": "https://localhost:8080/"
        },
        "id": "3X2rTM6yJiTv",
        "outputId": "3870cffe-99a7-4731-9472-3badb04cbdc3"
      },
      "outputs": [
        {
          "data": {
            "text/plain": [
              "array([[   0,    0,    0,    0,    0,    0,    0,    0,    0,    0,    0,\n",
              "           0,    0,    0,    0,    0,    0,    0,    0,    0,    0,    0,\n",
              "           0,    0, 4552,  764,  174,   66, 1520, 4553,   25],\n",
              "       [   0,    0,    0,    0,    0,    0,    0,    0,    0,    0,    0,\n",
              "           0,    0,    0,    0,    0,    0,    0,    0,    0,    0,    0,\n",
              "           0,    0,  106,    7,  144,  699, 6877, 6878, 1300],\n",
              "       [   0,    0,    0,    0,    0,    0,    0,    0,    0,    0,    0,\n",
              "           0,    0,    0,    0,    0,    0,    0,    0,    0, 1652, 1521,\n",
              "        6879, 6880, 6881, 1653,  168, 2059,  615, 1301, 1005],\n",
              "       [   0,    0,    0,    0,    0,    0,    0,    0,    0,    0,    0,\n",
              "           0,    0,    0,    0,    0,    0,    0,    0,    0,    0,    0,\n",
              "           0,  732, 2826,   13, 4554, 1397,  168, 1301,   32],\n",
              "       [   0,    0,    0,    0,    0,    0,    0,    0,    0,    0,    0,\n",
              "           0,    0,    0,    0,    0,    0,    0,    0,    0,    0,    0,\n",
              "          34, 1120,  229, 6882, 2060,  181, 1397, 6883,  105]],\n",
              "      dtype=int32)"
            ]
          },
          "execution_count": 83,
          "metadata": {},
          "output_type": "execute_result"
        }
      ],
      "source": [
        "X[0:5] # View the first 5 rows of the X matrix"
      ]
    },
    {
      "cell_type": "markdown",
      "metadata": {
        "id": "KYGC7ri91cWu"
      },
      "source": [
        "### Model 1"
      ]
    },
    {
      "cell_type": "markdown",
      "metadata": {
        "id": "LWSAZQpe4WLj"
      },
      "source": [
        "The first model we'll train is a \"vanilla\" RNN. The structure is embeddings -> RNN (with a hidden state vector length of 64) -> densely connected layer for classification (trained with 0.5 dropout to avoid overfitting the training data) -> densely connected binary output layer."
      ]
    },
    {
      "cell_type": "code",
      "execution_count": 121,
      "metadata": {
        "colab": {
          "base_uri": "https://localhost:8080/",
          "height": 320
        },
        "id": "Osjc-NDhOg1m",
        "outputId": "395bff3d-2776-439a-a69a-f9a5e104b4cb"
      },
      "outputs": [
        {
          "name": "stderr",
          "output_type": "stream",
          "text": [
            "/usr/local/lib/python3.12/dist-packages/keras/src/layers/core/embedding.py:97: UserWarning: Argument `input_length` is deprecated. Just remove it.\n",
            "  warnings.warn(\n"
          ]
        },
        {
          "data": {
            "text/html": [
              "<pre style=\"white-space:pre;overflow-x:auto;line-height:normal;font-family:Menlo,'DejaVu Sans Mono',consolas,'Courier New',monospace\"><span style=\"font-weight: bold\">Model: \"vanilla_rnn_model\"</span>\n",
              "</pre>\n"
            ],
            "text/plain": [
              "\u001b[1mModel: \"vanilla_rnn_model\"\u001b[0m\n"
            ]
          },
          "metadata": {},
          "output_type": "display_data"
        },
        {
          "data": {
            "text/html": [
              "<pre style=\"white-space:pre;overflow-x:auto;line-height:normal;font-family:Menlo,'DejaVu Sans Mono',consolas,'Courier New',monospace\">┏━━━━━━━━━━━━━━━━━━━━━━━━━━━━━━━━━┳━━━━━━━━━━━━━━━━━━━━━━━━┳━━━━━━━━━━━━━━━┓\n",
              "┃<span style=\"font-weight: bold\"> Layer (type)                    </span>┃<span style=\"font-weight: bold\"> Output Shape           </span>┃<span style=\"font-weight: bold\">       Param # </span>┃\n",
              "┡━━━━━━━━━━━━━━━━━━━━━━━━━━━━━━━━━╇━━━━━━━━━━━━━━━━━━━━━━━━╇━━━━━━━━━━━━━━━┩\n",
              "│ embedding_layer (<span style=\"color: #0087ff; text-decoration-color: #0087ff\">Embedding</span>)     │ (<span style=\"color: #00d7ff; text-decoration-color: #00d7ff\">None</span>, <span style=\"color: #00af00; text-decoration-color: #00af00\">31</span>, <span style=\"color: #00af00; text-decoration-color: #00af00\">100</span>)        │     <span style=\"color: #00af00; text-decoration-color: #00af00\">2,265,300</span> │\n",
              "├─────────────────────────────────┼────────────────────────┼───────────────┤\n",
              "│ simple_rnn_layer (<span style=\"color: #0087ff; text-decoration-color: #0087ff\">SimpleRNN</span>)    │ (<span style=\"color: #00d7ff; text-decoration-color: #00d7ff\">None</span>, <span style=\"color: #00af00; text-decoration-color: #00af00\">64</span>)             │        <span style=\"color: #00af00; text-decoration-color: #00af00\">10,560</span> │\n",
              "├─────────────────────────────────┼────────────────────────┼───────────────┤\n",
              "│ dropout_layer (<span style=\"color: #0087ff; text-decoration-color: #0087ff\">Dropout</span>)         │ (<span style=\"color: #00d7ff; text-decoration-color: #00d7ff\">None</span>, <span style=\"color: #00af00; text-decoration-color: #00af00\">64</span>)             │             <span style=\"color: #00af00; text-decoration-color: #00af00\">0</span> │\n",
              "├─────────────────────────────────┼────────────────────────┼───────────────┤\n",
              "│ output_layer (<span style=\"color: #0087ff; text-decoration-color: #0087ff\">Dense</span>)            │ (<span style=\"color: #00d7ff; text-decoration-color: #00d7ff\">None</span>, <span style=\"color: #00af00; text-decoration-color: #00af00\">1</span>)              │            <span style=\"color: #00af00; text-decoration-color: #00af00\">65</span> │\n",
              "└─────────────────────────────────┴────────────────────────┴───────────────┘\n",
              "</pre>\n"
            ],
            "text/plain": [
              "┏━━━━━━━━━━━━━━━━━━━━━━━━━━━━━━━━━┳━━━━━━━━━━━━━━━━━━━━━━━━┳━━━━━━━━━━━━━━━┓\n",
              "┃\u001b[1m \u001b[0m\u001b[1mLayer (type)                   \u001b[0m\u001b[1m \u001b[0m┃\u001b[1m \u001b[0m\u001b[1mOutput Shape          \u001b[0m\u001b[1m \u001b[0m┃\u001b[1m \u001b[0m\u001b[1m      Param #\u001b[0m\u001b[1m \u001b[0m┃\n",
              "┡━━━━━━━━━━━━━━━━━━━━━━━━━━━━━━━━━╇━━━━━━━━━━━━━━━━━━━━━━━━╇━━━━━━━━━━━━━━━┩\n",
              "│ embedding_layer (\u001b[38;5;33mEmbedding\u001b[0m)     │ (\u001b[38;5;45mNone\u001b[0m, \u001b[38;5;34m31\u001b[0m, \u001b[38;5;34m100\u001b[0m)        │     \u001b[38;5;34m2,265,300\u001b[0m │\n",
              "├─────────────────────────────────┼────────────────────────┼───────────────┤\n",
              "│ simple_rnn_layer (\u001b[38;5;33mSimpleRNN\u001b[0m)    │ (\u001b[38;5;45mNone\u001b[0m, \u001b[38;5;34m64\u001b[0m)             │        \u001b[38;5;34m10,560\u001b[0m │\n",
              "├─────────────────────────────────┼────────────────────────┼───────────────┤\n",
              "│ dropout_layer (\u001b[38;5;33mDropout\u001b[0m)         │ (\u001b[38;5;45mNone\u001b[0m, \u001b[38;5;34m64\u001b[0m)             │             \u001b[38;5;34m0\u001b[0m │\n",
              "├─────────────────────────────────┼────────────────────────┼───────────────┤\n",
              "│ output_layer (\u001b[38;5;33mDense\u001b[0m)            │ (\u001b[38;5;45mNone\u001b[0m, \u001b[38;5;34m1\u001b[0m)              │            \u001b[38;5;34m65\u001b[0m │\n",
              "└─────────────────────────────────┴────────────────────────┴───────────────┘\n"
            ]
          },
          "metadata": {},
          "output_type": "display_data"
        },
        {
          "data": {
            "text/html": [
              "<pre style=\"white-space:pre;overflow-x:auto;line-height:normal;font-family:Menlo,'DejaVu Sans Mono',consolas,'Courier New',monospace\"><span style=\"font-weight: bold\"> Total params: </span><span style=\"color: #00af00; text-decoration-color: #00af00\">2,275,925</span> (8.68 MB)\n",
              "</pre>\n"
            ],
            "text/plain": [
              "\u001b[1m Total params: \u001b[0m\u001b[38;5;34m2,275,925\u001b[0m (8.68 MB)\n"
            ]
          },
          "metadata": {},
          "output_type": "display_data"
        },
        {
          "data": {
            "text/html": [
              "<pre style=\"white-space:pre;overflow-x:auto;line-height:normal;font-family:Menlo,'DejaVu Sans Mono',consolas,'Courier New',monospace\"><span style=\"font-weight: bold\"> Trainable params: </span><span style=\"color: #00af00; text-decoration-color: #00af00\">2,275,925</span> (8.68 MB)\n",
              "</pre>\n"
            ],
            "text/plain": [
              "\u001b[1m Trainable params: \u001b[0m\u001b[38;5;34m2,275,925\u001b[0m (8.68 MB)\n"
            ]
          },
          "metadata": {},
          "output_type": "display_data"
        },
        {
          "data": {
            "text/html": [
              "<pre style=\"white-space:pre;overflow-x:auto;line-height:normal;font-family:Menlo,'DejaVu Sans Mono',consolas,'Courier New',monospace\"><span style=\"font-weight: bold\"> Non-trainable params: </span><span style=\"color: #00af00; text-decoration-color: #00af00\">0</span> (0.00 B)\n",
              "</pre>\n"
            ],
            "text/plain": [
              "\u001b[1m Non-trainable params: \u001b[0m\u001b[38;5;34m0\u001b[0m (0.00 B)\n"
            ]
          },
          "metadata": {},
          "output_type": "display_data"
        }
      ],
      "source": [
        "model_vanilla_RNN = Sequential([\n",
        "        # Embedding layer, initialized with pre-trained GloVe weights\n",
        "        Embedding(\n",
        "            input_dim=VOCAB_SIZE,\n",
        "            output_dim=EMBEDDING_DIMENSION,\n",
        "            weights=[embedding_matrix],\n",
        "            input_length=MAX_SEQUENCE_LENGTH,\n",
        "            trainable=True,  # Allow the embeddings to be adjusted in backpropagation\n",
        "            name='embedding_layer'\n",
        "        ),\n",
        "        SimpleRNN(64, name='simple_rnn_layer'),\n",
        "\n",
        "        # Dropout layer for the classifier to prevent overfitting\n",
        "        Dropout(0.5, name='dropout_layer'),\n",
        "\n",
        "        # Final binary classifier\n",
        "        Dense(1, activation='sigmoid', name='output_layer') # Custom name for the Dense layer\n",
        "    ], name='vanilla_rnn_model')\n",
        "\n",
        "model_vanilla_RNN.compile(\n",
        "    optimizer='adam',\n",
        "    loss='binary_crossentropy',\n",
        "    metrics=['accuracy']\n",
        ")\n",
        "\n",
        "model_vanilla_RNN.build(input_shape=(None, MAX_SEQUENCE_LENGTH))\n",
        "model_vanilla_RNN.summary()"
      ]
    },
    {
      "cell_type": "markdown",
      "metadata": {
        "id": "EKpthR4LLmLt"
      },
      "source": [
        "We'll use the `ReduceLROnPlateau` method to dynamically reduce the learning rate when we approach a minimum in the loss landscape."
      ]
    },
    {
      "cell_type": "code",
      "execution_count": 122,
      "metadata": {
        "id": "GnPMDdEa_LA-"
      },
      "outputs": [],
      "source": [
        "# Reduce the learning rate when validation loss plateaus\n",
        "lr_scheduler = ReduceLROnPlateau(monitor='val_loss',\n",
        "                                 patience=2,\n",
        "                                 factor=0.2,\n",
        "                                 min_lr=0.00001)"
      ]
    },
    {
      "cell_type": "markdown",
      "metadata": {
        "id": "7dd04G4bLzuA"
      },
      "source": [
        "We'll also use the `ModelCheckpoint` callback to return the best model from the 10 epochs."
      ]
    },
    {
      "cell_type": "code",
      "execution_count": 123,
      "metadata": {
        "id": "v-7XXuut_L2F"
      },
      "outputs": [],
      "source": [
        "# Save the best model based on validation loss\n",
        "model_checkpoint = ModelCheckpoint(filepath='best_model_vanilla_RNN.keras',\n",
        "                                   save_best_only=True,\n",
        "                                   monitor='val_loss',\n",
        "                                   mode='min')"
      ]
    },
    {
      "cell_type": "code",
      "execution_count": 124,
      "metadata": {
        "colab": {
          "base_uri": "https://localhost:8080/"
        },
        "id": "RdqhiNYZuOXH",
        "outputId": "d3eb408c-eac4-48e3-c252-7bb6c20fc594"
      },
      "outputs": [
        {
          "name": "stdout",
          "output_type": "stream",
          "text": [
            "Epoch 1/10\n",
            "\u001b[1m191/191\u001b[0m \u001b[32m━━━━━━━━━━━━━━━━━━━━\u001b[0m\u001b[37m\u001b[0m \u001b[1m6s\u001b[0m 20ms/step - accuracy: 0.6129 - loss: 0.6846 - val_accuracy: 0.8037 - val_loss: 0.4311 - learning_rate: 0.0010\n",
            "Epoch 2/10\n",
            "\u001b[1m191/191\u001b[0m \u001b[32m━━━━━━━━━━━━━━━━━━━━\u001b[0m\u001b[37m\u001b[0m \u001b[1m3s\u001b[0m 17ms/step - accuracy: 0.8143 - loss: 0.4357 - val_accuracy: 0.8194 - val_loss: 0.4199 - learning_rate: 0.0010\n",
            "Epoch 3/10\n",
            "\u001b[1m191/191\u001b[0m \u001b[32m━━━━━━━━━━━━━━━━━━━━\u001b[0m\u001b[37m\u001b[0m \u001b[1m3s\u001b[0m 17ms/step - accuracy: 0.8582 - loss: 0.3505 - val_accuracy: 0.8037 - val_loss: 0.4522 - learning_rate: 0.0010\n",
            "Epoch 4/10\n",
            "\u001b[1m191/191\u001b[0m \u001b[32m━━━━━━━━━━━━━━━━━━━━\u001b[0m\u001b[37m\u001b[0m \u001b[1m3s\u001b[0m 17ms/step - accuracy: 0.9049 - loss: 0.2566 - val_accuracy: 0.8214 - val_loss: 0.4812 - learning_rate: 0.0010\n",
            "Epoch 5/10\n",
            "\u001b[1m191/191\u001b[0m \u001b[32m━━━━━━━━━━━━━━━━━━━━\u001b[0m\u001b[37m\u001b[0m \u001b[1m3s\u001b[0m 18ms/step - accuracy: 0.9445 - loss: 0.1573 - val_accuracy: 0.8168 - val_loss: 0.4695 - learning_rate: 2.0000e-04\n",
            "Epoch 6/10\n",
            "\u001b[1m191/191\u001b[0m \u001b[32m━━━━━━━━━━━━━━━━━━━━\u001b[0m\u001b[37m\u001b[0m \u001b[1m3s\u001b[0m 18ms/step - accuracy: 0.9593 - loss: 0.1270 - val_accuracy: 0.8096 - val_loss: 0.4961 - learning_rate: 2.0000e-04\n",
            "Epoch 7/10\n",
            "\u001b[1m191/191\u001b[0m \u001b[32m━━━━━━━━━━━━━━━━━━━━\u001b[0m\u001b[37m\u001b[0m \u001b[1m3s\u001b[0m 18ms/step - accuracy: 0.9605 - loss: 0.1193 - val_accuracy: 0.8096 - val_loss: 0.5026 - learning_rate: 4.0000e-05\n",
            "Epoch 8/10\n",
            "\u001b[1m191/191\u001b[0m \u001b[32m━━━━━━━━━━━━━━━━━━━━\u001b[0m\u001b[37m\u001b[0m \u001b[1m3s\u001b[0m 17ms/step - accuracy: 0.9647 - loss: 0.1060 - val_accuracy: 0.8083 - val_loss: 0.5106 - learning_rate: 4.0000e-05\n",
            "Epoch 9/10\n",
            "\u001b[1m191/191\u001b[0m \u001b[32m━━━━━━━━━━━━━━━━━━━━\u001b[0m\u001b[37m\u001b[0m \u001b[1m3s\u001b[0m 17ms/step - accuracy: 0.9626 - loss: 0.1120 - val_accuracy: 0.8096 - val_loss: 0.5102 - learning_rate: 1.0000e-05\n",
            "Epoch 10/10\n",
            "\u001b[1m191/191\u001b[0m \u001b[32m━━━━━━━━━━━━━━━━━━━━\u001b[0m\u001b[37m\u001b[0m \u001b[1m3s\u001b[0m 17ms/step - accuracy: 0.9644 - loss: 0.1127 - val_accuracy: 0.8102 - val_loss: 0.5124 - learning_rate: 1.0000e-05\n"
          ]
        }
      ],
      "source": [
        "# Use stratify=y to maintain the same proportion 1 and 0 in target for validation set\n",
        "X_train, X_val, y_train, y_val = train_test_split(X, y, test_size=0.2, random_state=42, stratify=y)\n",
        "\n",
        "EPOCHS_1 = 10\n",
        "history_1 = model_vanilla_RNN.fit(\n",
        "    X_train, y_train,\n",
        "    epochs=EPOCHS_1,\n",
        "    batch_size=32,\n",
        "    validation_data=(X_val, y_val),\n",
        "    callbacks=[lr_scheduler, model_checkpoint],\n",
        "    verbose=1\n",
        ")"
      ]
    },
    {
      "cell_type": "code",
      "execution_count": 125,
      "metadata": {
        "colab": {
          "base_uri": "https://localhost:8080/"
        },
        "id": "1b4174b8",
        "outputId": "cec53cf3-8292-4e9a-cc7e-15a89d91e077"
      },
      "outputs": [
        {
          "name": "stdout",
          "output_type": "stream",
          "text": [
            "Evaluation of the best saved vanilla RNN model on the validation set:\n",
            "  Loss: 0.4199\n",
            "  Accuracy: 0.8194\n"
          ]
        }
      ],
      "source": [
        "# Load the best saved model\n",
        "best_vanilla_RNN_model = load_model('best_model_vanilla_RNN.keras')\n",
        "\n",
        "# Evaluate the loaded model on the validation set\n",
        "loss, accuracy = best_vanilla_RNN_model.evaluate(X_val, y_val, verbose=0)\n",
        "\n",
        "print(f\"Evaluation of the best saved vanilla RNN model on the validation set:\")\n",
        "print(f\"  Loss: {loss:.4f}\")\n",
        "print(f\"  Accuracy: {accuracy:.4f}\")"
      ]
    },
    {
      "cell_type": "code",
      "execution_count": 126,
      "metadata": {
        "colab": {
          "base_uri": "https://localhost:8080/"
        },
        "id": "qbCZRPmgwkIl",
        "outputId": "4851e137-8fd3-45a4-fedb-cad4ed909c2a"
      },
      "outputs": [
        {
          "name": "stdout",
          "output_type": "stream",
          "text": [
            "dict_keys(['accuracy', 'loss', 'val_accuracy', 'val_loss', 'learning_rate'])\n"
          ]
        }
      ],
      "source": [
        "print(history_1.history.keys())"
      ]
    },
    {
      "cell_type": "code",
      "execution_count": 127,
      "metadata": {
        "colab": {
          "base_uri": "https://localhost:8080/",
          "height": 399
        },
        "id": "CHMnhvhzwq5E",
        "outputId": "0a9d8060-f4e6-40c6-ef70-570d9e2e2d58"
      },
      "outputs": [
        {
          "data": {
            "image/png": "[encoded data removed]",
            "text/plain": [
              "<Figure size 1200x500 with 2 Axes>"
            ]
          },
          "metadata": {},
          "output_type": "display_data"
        }
      ],
      "source": [
        "# Get the metrics from the history object\n",
        "acc_1 = history_1.history['accuracy']\n",
        "val_acc_1 = history_1.history['val_accuracy']\n",
        "loss_1 = history_1.history['loss']\n",
        "val_loss_1 = history_1.history['val_loss']\n",
        "\n",
        "epochs_range = range(EPOCHS_1)\n",
        "\n",
        "plt.figure(figsize=(12, 5))\n",
        "\n",
        "# Plot 1: Accuracy\n",
        "plt.subplot(1, 2, 1)\n",
        "plt.plot(epochs_range, acc_1, label='Training Accuracy')\n",
        "plt.plot(epochs_range, val_acc_1, label='Validation Accuracy')\n",
        "plt.legend(loc='lower right')\n",
        "plt.title('Training and Validation Accuracy')\n",
        "plt.xlabel('Epoch')\n",
        "plt.ylabel('Accuracy')\n",
        "\n",
        "# Plot 2: Loss\n",
        "plt.subplot(1, 2, 2)\n",
        "plt.plot(epochs_range, loss_1, label='Training Loss')\n",
        "plt.plot(epochs_range, val_loss_1, label='Validation Loss')\n",
        "plt.legend(loc='upper right')\n",
        "plt.title('Training and Validation Loss')\n",
        "plt.xlabel('Epoch')\n",
        "plt.ylabel('Loss')\n",
        "\n",
        "plt.show()"
      ]
    },
    {
      "cell_type": "code",
      "execution_count": 128,
      "metadata": {
        "colab": {
          "base_uri": "https://localhost:8080/"
        },
        "id": "4cacca18",
        "outputId": "cc03ed1e-e430-49e9-ea98-9554bc863dbb"
      },
      "outputs": [
        {
          "name": "stdout",
          "output_type": "stream",
          "text": [
            "\u001b[1m48/48\u001b[0m \u001b[32m━━━━━━━━━━━━━━━━━━━━\u001b[0m\u001b[37m\u001b[0m \u001b[1m0s\u001b[0m 6ms/step\n",
            "Precision: 0.8153\n",
            "Recall: 0.7492\n",
            "F1-score: 0.7809\n"
          ]
        }
      ],
      "source": [
        "# Make predictions on the validation set\n",
        "y_pred_prob = best_vanilla_RNN_model.predict(X_val)\n",
        "y_pred = (y_pred_prob > 0.5).astype(int) # Convert probabilities to binary predictions\n",
        "\n",
        "# Calculate precision, recall, and F1-score\n",
        "precision = precision_score(y_val, y_pred)\n",
        "recall = recall_score(y_val, y_pred)\n",
        "f1 = f1_score(y_val, y_pred)\n",
        "\n",
        "print(f\"Precision: {precision:.4f}\")\n",
        "print(f\"Recall: {recall:.4f}\")\n",
        "print(f\"F1-score: {f1:.4f}\")"
      ]
    },
    {
      "cell_type": "code",
      "execution_count": 129,
      "metadata": {
        "colab": {
          "base_uri": "https://localhost:8080/",
          "height": 499
        },
        "id": "BESCF9u16sUp",
        "outputId": "fb4a9ac9-2518-4fd7-e171-3c6f88ff1a33"
      },
      "outputs": [
        {
          "data": {
            "image/png": "[encoded data removed]",
            "text/plain": [
              "<Figure size 600x600 with 2 Axes>"
            ]
          },
          "metadata": {},
          "output_type": "display_data"
        }
      ],
      "source": [
        "# Calculate the confusion matrix\n",
        "cm = confusion_matrix(y_val, y_pred)\n",
        "\n",
        "disp = ConfusionMatrixDisplay(confusion_matrix=cm, display_labels=[0, 1])\n",
        "\n",
        "fig, ax = plt.subplots(figsize=(6, 6))\n",
        "disp.plot(cmap=plt.cm.Blues, ax=ax)\n",
        "plt.title('Confusion Matrix')\n",
        "plt.show()"
      ]
    },
    {
      "cell_type": "markdown",
      "metadata": {
        "id": "gIWw7mUL55i4"
      },
      "source": [
        "### Model 1 Results\n",
        "\n",
        "The vanilla RNN results show a pattern of overfitting beyond the 3rd epoch. The training accuracy increases and the training loss decreases over the 10 epochs. However, the validation accuracy peaks around epoch 3 and then starts to decrease, while the validation loss increases steadily after epoch 2. This divergence between the training and validation curves indicates that the model is failing to generalize to unseen data.\n",
        "\n",
        "The relatively low recall compared to precision suggests that the model is more cautious about predicting a disaster, resulting in a higher number of false negatives."
      ]
    },
    {
      "cell_type": "markdown",
      "metadata": {
        "id": "2fbd3227"
      },
      "source": [
        "### Model 2\n",
        "\n",
        "The second model is an LSTM (Long Short-Term Memory) network. The code is similar to the vanilla RNN, replacing the `SimpleRNN` layer with an `LSTM` layer that has 64 units. LSTMs have a complex internal structure, consisting of both a hidden state vector as well as \"cell state\" vector for retaining longer-term details."
      ]
    },
    {
      "cell_type": "code",
      "execution_count": 130,
      "metadata": {
        "colab": {
          "base_uri": "https://localhost:8080/",
          "height": 320
        },
        "id": "J_JahgYT1h8D",
        "outputId": "3fbae8b9-ebef-44cf-f608-8f2159198178"
      },
      "outputs": [
        {
          "name": "stderr",
          "output_type": "stream",
          "text": [
            "/usr/local/lib/python3.12/dist-packages/keras/src/layers/core/embedding.py:97: UserWarning: Argument `input_length` is deprecated. Just remove it.\n",
            "  warnings.warn(\n"
          ]
        },
        {
          "data": {
            "text/html": [
              "<pre style=\"white-space:pre;overflow-x:auto;line-height:normal;font-family:Menlo,'DejaVu Sans Mono',consolas,'Courier New',monospace\"><span style=\"font-weight: bold\">Model: \"LSTM_model\"</span>\n",
              "</pre>\n"
            ],
            "text/plain": [
              "\u001b[1mModel: \"LSTM_model\"\u001b[0m\n"
            ]
          },
          "metadata": {},
          "output_type": "display_data"
        },
        {
          "data": {
            "text/html": [
              "<pre style=\"white-space:pre;overflow-x:auto;line-height:normal;font-family:Menlo,'DejaVu Sans Mono',consolas,'Courier New',monospace\">┏━━━━━━━━━━━━━━━━━━━━━━━━━━━━━━━━━┳━━━━━━━━━━━━━━━━━━━━━━━━┳━━━━━━━━━━━━━━━┓\n",
              "┃<span style=\"font-weight: bold\"> Layer (type)                    </span>┃<span style=\"font-weight: bold\"> Output Shape           </span>┃<span style=\"font-weight: bold\">       Param # </span>┃\n",
              "┡━━━━━━━━━━━━━━━━━━━━━━━━━━━━━━━━━╇━━━━━━━━━━━━━━━━━━━━━━━━╇━━━━━━━━━━━━━━━┩\n",
              "│ embedding_layer (<span style=\"color: #0087ff; text-decoration-color: #0087ff\">Embedding</span>)     │ (<span style=\"color: #00d7ff; text-decoration-color: #00d7ff\">None</span>, <span style=\"color: #00af00; text-decoration-color: #00af00\">31</span>, <span style=\"color: #00af00; text-decoration-color: #00af00\">100</span>)        │     <span style=\"color: #00af00; text-decoration-color: #00af00\">2,265,300</span> │\n",
              "├─────────────────────────────────┼────────────────────────┼───────────────┤\n",
              "│ LSTM_layer (<span style=\"color: #0087ff; text-decoration-color: #0087ff\">LSTM</span>)               │ (<span style=\"color: #00d7ff; text-decoration-color: #00d7ff\">None</span>, <span style=\"color: #00af00; text-decoration-color: #00af00\">64</span>)             │        <span style=\"color: #00af00; text-decoration-color: #00af00\">42,240</span> │\n",
              "├─────────────────────────────────┼────────────────────────┼───────────────┤\n",
              "│ dropout_layer (<span style=\"color: #0087ff; text-decoration-color: #0087ff\">Dropout</span>)         │ (<span style=\"color: #00d7ff; text-decoration-color: #00d7ff\">None</span>, <span style=\"color: #00af00; text-decoration-color: #00af00\">64</span>)             │             <span style=\"color: #00af00; text-decoration-color: #00af00\">0</span> │\n",
              "├─────────────────────────────────┼────────────────────────┼───────────────┤\n",
              "│ output_layer (<span style=\"color: #0087ff; text-decoration-color: #0087ff\">Dense</span>)            │ (<span style=\"color: #00d7ff; text-decoration-color: #00d7ff\">None</span>, <span style=\"color: #00af00; text-decoration-color: #00af00\">1</span>)              │            <span style=\"color: #00af00; text-decoration-color: #00af00\">65</span> │\n",
              "└─────────────────────────────────┴────────────────────────┴───────────────┘\n",
              "</pre>\n"
            ],
            "text/plain": [
              "┏━━━━━━━━━━━━━━━━━━━━━━━━━━━━━━━━━┳━━━━━━━━━━━━━━━━━━━━━━━━┳━━━━━━━━━━━━━━━┓\n",
              "┃\u001b[1m \u001b[0m\u001b[1mLayer (type)                   \u001b[0m\u001b[1m \u001b[0m┃\u001b[1m \u001b[0m\u001b[1mOutput Shape          \u001b[0m\u001b[1m \u001b[0m┃\u001b[1m \u001b[0m\u001b[1m      Param #\u001b[0m\u001b[1m \u001b[0m┃\n",
              "┡━━━━━━━━━━━━━━━━━━━━━━━━━━━━━━━━━╇━━━━━━━━━━━━━━━━━━━━━━━━╇━━━━━━━━━━━━━━━┩\n",
              "│ embedding_layer (\u001b[38;5;33mEmbedding\u001b[0m)     │ (\u001b[38;5;45mNone\u001b[0m, \u001b[38;5;34m31\u001b[0m, \u001b[38;5;34m100\u001b[0m)        │     \u001b[38;5;34m2,265,300\u001b[0m │\n",
              "├─────────────────────────────────┼────────────────────────┼───────────────┤\n",
              "│ LSTM_layer (\u001b[38;5;33mLSTM\u001b[0m)               │ (\u001b[38;5;45mNone\u001b[0m, \u001b[38;5;34m64\u001b[0m)             │        \u001b[38;5;34m42,240\u001b[0m │\n",
              "├─────────────────────────────────┼────────────────────────┼───────────────┤\n",
              "│ dropout_layer (\u001b[38;5;33mDropout\u001b[0m)         │ (\u001b[38;5;45mNone\u001b[0m, \u001b[38;5;34m64\u001b[0m)             │             \u001b[38;5;34m0\u001b[0m │\n",
              "├─────────────────────────────────┼────────────────────────┼───────────────┤\n",
              "│ output_layer (\u001b[38;5;33mDense\u001b[0m)            │ (\u001b[38;5;45mNone\u001b[0m, \u001b[38;5;34m1\u001b[0m)              │            \u001b[38;5;34m65\u001b[0m │\n",
              "└─────────────────────────────────┴────────────────────────┴───────────────┘\n"
            ]
          },
          "metadata": {},
          "output_type": "display_data"
        },
        {
          "data": {
            "text/html": [
              "<pre style=\"white-space:pre;overflow-x:auto;line-height:normal;font-family:Menlo,'DejaVu Sans Mono',consolas,'Courier New',monospace\"><span style=\"font-weight: bold\"> Total params: </span><span style=\"color: #00af00; text-decoration-color: #00af00\">2,307,605</span> (8.80 MB)\n",
              "</pre>\n"
            ],
            "text/plain": [
              "\u001b[1m Total params: \u001b[0m\u001b[38;5;34m2,307,605\u001b[0m (8.80 MB)\n"
            ]
          },
          "metadata": {},
          "output_type": "display_data"
        },
        {
          "data": {
            "text/html": [
              "<pre style=\"white-space:pre;overflow-x:auto;line-height:normal;font-family:Menlo,'DejaVu Sans Mono',consolas,'Courier New',monospace\"><span style=\"font-weight: bold\"> Trainable params: </span><span style=\"color: #00af00; text-decoration-color: #00af00\">2,307,605</span> (8.80 MB)\n",
              "</pre>\n"
            ],
            "text/plain": [
              "\u001b[1m Trainable params: \u001b[0m\u001b[38;5;34m2,307,605\u001b[0m (8.80 MB)\n"
            ]
          },
          "metadata": {},
          "output_type": "display_data"
        },
        {
          "data": {
            "text/html": [
              "<pre style=\"white-space:pre;overflow-x:auto;line-height:normal;font-family:Menlo,'DejaVu Sans Mono',consolas,'Courier New',monospace\"><span style=\"font-weight: bold\"> Non-trainable params: </span><span style=\"color: #00af00; text-decoration-color: #00af00\">0</span> (0.00 B)\n",
              "</pre>\n"
            ],
            "text/plain": [
              "\u001b[1m Non-trainable params: \u001b[0m\u001b[38;5;34m0\u001b[0m (0.00 B)\n"
            ]
          },
          "metadata": {},
          "output_type": "display_data"
        }
      ],
      "source": [
        "model_LSTM = Sequential([\n",
        "        # Embedding layer, initialized with pre-trained GloVe weights\n",
        "        Embedding(\n",
        "            input_dim=VOCAB_SIZE,\n",
        "            output_dim=EMBEDDING_DIMENSION,\n",
        "            weights=[embedding_matrix],\n",
        "            input_length=MAX_SEQUENCE_LENGTH,\n",
        "            trainable=True,  # Allow the embeddings to be adjusted in backpropagation\n",
        "            name='embedding_layer'\n",
        "        ),\n",
        "        LSTM(64, name='LSTM_layer'),\n",
        "\n",
        "        # Dropout layer for the classifier to prevent overfitting\n",
        "        Dropout(0.5, name='dropout_layer'),\n",
        "\n",
        "        # Final binary classifier\n",
        "        Dense(1, activation='sigmoid', name='output_layer') # Custom name for the Dense layer\n",
        "    ], name='LSTM_model')\n",
        "\n",
        "model_LSTM.compile(\n",
        "    optimizer='adam',\n",
        "    loss='binary_crossentropy',\n",
        "    metrics=['accuracy']\n",
        ")\n",
        "\n",
        "model_LSTM.build(input_shape=(None, MAX_SEQUENCE_LENGTH))\n",
        "model_LSTM.summary()"
      ]
    },
    {
      "cell_type": "code",
      "execution_count": 131,
      "metadata": {
        "colab": {
          "base_uri": "https://localhost:8080/"
        },
        "id": "itzwjhM72CLn",
        "outputId": "ee15a956-0569-403d-81c0-981e235d9078"
      },
      "outputs": [
        {
          "name": "stdout",
          "output_type": "stream",
          "text": [
            "Epoch 1/10\n",
            "\u001b[1m191/191\u001b[0m \u001b[32m━━━━━━━━━━━━━━━━━━━━\u001b[0m\u001b[37m\u001b[0m \u001b[1m8s\u001b[0m 31ms/step - accuracy: 0.7109 - loss: 0.5550 - val_accuracy: 0.8247 - val_loss: 0.4142 - learning_rate: 0.0010\n",
            "Epoch 2/10\n",
            "\u001b[1m191/191\u001b[0m \u001b[32m━━━━━━━━━━━━━━━━━━━━\u001b[0m\u001b[37m\u001b[0m \u001b[1m6s\u001b[0m 31ms/step - accuracy: 0.8345 - loss: 0.3826 - val_accuracy: 0.8247 - val_loss: 0.4114 - learning_rate: 0.0010\n",
            "Epoch 3/10\n",
            "\u001b[1m191/191\u001b[0m \u001b[32m━━━━━━━━━━━━━━━━━━━━\u001b[0m\u001b[37m\u001b[0m \u001b[1m5s\u001b[0m 28ms/step - accuracy: 0.8819 - loss: 0.2960 - val_accuracy: 0.8194 - val_loss: 0.4226 - learning_rate: 0.0010\n",
            "Epoch 4/10\n",
            "\u001b[1m191/191\u001b[0m \u001b[32m━━━━━━━━━━━━━━━━━━━━\u001b[0m\u001b[37m\u001b[0m \u001b[1m5s\u001b[0m 28ms/step - accuracy: 0.9243 - loss: 0.2030 - val_accuracy: 0.8162 - val_loss: 0.4726 - learning_rate: 0.0010\n",
            "Epoch 5/10\n",
            "\u001b[1m191/191\u001b[0m \u001b[32m━━━━━━━━━━━━━━━━━━━━\u001b[0m\u001b[37m\u001b[0m \u001b[1m6s\u001b[0m 30ms/step - accuracy: 0.9659 - loss: 0.1081 - val_accuracy: 0.8155 - val_loss: 0.5609 - learning_rate: 2.0000e-04\n",
            "Epoch 6/10\n",
            "\u001b[1m191/191\u001b[0m \u001b[32m━━━━━━━━━━━━━━━━━━━━\u001b[0m\u001b[37m\u001b[0m \u001b[1m6s\u001b[0m 31ms/step - accuracy: 0.9696 - loss: 0.0939 - val_accuracy: 0.7984 - val_loss: 0.6137 - learning_rate: 2.0000e-04\n",
            "Epoch 7/10\n",
            "\u001b[1m191/191\u001b[0m \u001b[32m━━━━━━━━━━━━━━━━━━━━\u001b[0m\u001b[37m\u001b[0m \u001b[1m5s\u001b[0m 28ms/step - accuracy: 0.9764 - loss: 0.0739 - val_accuracy: 0.8096 - val_loss: 0.6262 - learning_rate: 4.0000e-05\n",
            "Epoch 8/10\n",
            "\u001b[1m191/191\u001b[0m \u001b[32m━━━━━━━━━━━━━━━━━━━━\u001b[0m\u001b[37m\u001b[0m \u001b[1m5s\u001b[0m 28ms/step - accuracy: 0.9801 - loss: 0.0614 - val_accuracy: 0.8017 - val_loss: 0.6487 - learning_rate: 4.0000e-05\n",
            "Epoch 9/10\n",
            "\u001b[1m191/191\u001b[0m \u001b[32m━━━━━━━━━━━━━━━━━━━━\u001b[0m\u001b[37m\u001b[0m \u001b[1m6s\u001b[0m 30ms/step - accuracy: 0.9788 - loss: 0.0662 - val_accuracy: 0.8037 - val_loss: 0.6515 - learning_rate: 1.0000e-05\n",
            "Epoch 10/10\n",
            "\u001b[1m191/191\u001b[0m \u001b[32m━━━━━━━━━━━━━━━━━━━━\u001b[0m\u001b[37m\u001b[0m \u001b[1m7s\u001b[0m 36ms/step - accuracy: 0.9774 - loss: 0.0754 - val_accuracy: 0.8043 - val_loss: 0.6560 - learning_rate: 1.0000e-05\n"
          ]
        }
      ],
      "source": [
        "# Reduce the learning rate when validation loss plateaus\n",
        "lr_scheduler = ReduceLROnPlateau(monitor='val_loss',\n",
        "                                 patience=2,\n",
        "                                 factor=0.2,\n",
        "                                 min_lr=0.00001)\n",
        "\n",
        "# Save the best model based on validation loss\n",
        "model_checkpoint = ModelCheckpoint(filepath='best_model_LSTM.keras',\n",
        "                                   save_best_only=True,\n",
        "                                   monitor='val_loss',\n",
        "                                   mode='min')\n",
        "\n",
        "EPOCHS_2 = 10\n",
        "history_2 = model_LSTM.fit(\n",
        "    X_train, y_train,\n",
        "    epochs=EPOCHS_2,\n",
        "    batch_size=32,\n",
        "    validation_data=(X_val, y_val),\n",
        "    callbacks=[lr_scheduler, model_checkpoint], # Added callbacks\n",
        "    verbose=1\n",
        ")"
      ]
    },
    {
      "cell_type": "code",
      "execution_count": 132,
      "metadata": {
        "colab": {
          "base_uri": "https://localhost:8080/"
        },
        "id": "9q5150okGKD-",
        "outputId": "e6589b49-e12d-4e1c-c435-c81a1d278c7f"
      },
      "outputs": [
        {
          "name": "stdout",
          "output_type": "stream",
          "text": [
            "Evaluation of the best saved LSTM model on the validation set:\n",
            "  Loss: 0.4114\n",
            "  Accuracy: 0.8247\n"
          ]
        }
      ],
      "source": [
        "# Load the best saved model\n",
        "best_LSTM_model = load_model('best_model_LSTM.keras')\n",
        "\n",
        "# Evaluate the loaded model on the validation set\n",
        "loss, accuracy = best_LSTM_model.evaluate(X_val, y_val, verbose=0)\n",
        "\n",
        "print(f\"Evaluation of the best saved LSTM model on the validation set:\")\n",
        "print(f\"  Loss: {loss:.4f}\")\n",
        "print(f\"  Accuracy: {accuracy:.4f}\")"
      ]
    },
    {
      "cell_type": "code",
      "execution_count": 133,
      "metadata": {
        "colab": {
          "base_uri": "https://localhost:8080/",
          "height": 399
        },
        "id": "3orufP9i2MGi",
        "outputId": "4a13fbaa-2de3-4388-8fa2-8e3d33566178"
      },
      "outputs": [
        {
          "data": {
            "image/png": "[encoded data removed]",
            "text/plain": [
              "<Figure size 1200x500 with 2 Axes>"
            ]
          },
          "metadata": {},
          "output_type": "display_data"
        }
      ],
      "source": [
        "# Get the metrics from the history object\n",
        "acc_2 = history_2.history['accuracy']\n",
        "val_acc_2 = history_2.history['val_accuracy']\n",
        "loss_2 = history_2.history['loss']\n",
        "val_loss_2 = history_2.history['val_loss']\n",
        "\n",
        "epochs_range = range(EPOCHS_2)\n",
        "\n",
        "plt.figure(figsize=(12, 5))\n",
        "\n",
        "# Plot 1: Accuracy\n",
        "plt.subplot(1, 2, 1)\n",
        "plt.plot(epochs_range, acc_2, label='Training Accuracy')\n",
        "plt.plot(epochs_range, val_acc_2, label='Validation Accuracy')\n",
        "plt.legend(loc='lower right')\n",
        "plt.title('Training and Validation Accuracy')\n",
        "plt.xlabel('Epoch')\n",
        "plt.ylabel('Accuracy')\n",
        "\n",
        "# Plot 2: Loss\n",
        "plt.subplot(1, 2, 2)\n",
        "plt.plot(epochs_range, loss_2, label='Training Loss')\n",
        "plt.plot(epochs_range, val_loss_2, label='Validation Loss')\n",
        "plt.legend(loc='upper right')\n",
        "plt.title('Training and Validation Loss')\n",
        "plt.xlabel('Epoch')\n",
        "plt.ylabel('Loss')\n",
        "\n",
        "plt.show()"
      ]
    },
    {
      "cell_type": "code",
      "execution_count": 134,
      "metadata": {
        "colab": {
          "base_uri": "https://localhost:8080/"
        },
        "id": "fhnxWksq2Yqp",
        "outputId": "4aa92767-efa7-4f92-c6ef-6146400654dd"
      },
      "outputs": [
        {
          "name": "stdout",
          "output_type": "stream",
          "text": [
            "\u001b[1m48/48\u001b[0m \u001b[32m━━━━━━━━━━━━━━━━━━━━\u001b[0m\u001b[37m\u001b[0m \u001b[1m1s\u001b[0m 12ms/step\n",
            "Precision: 0.8057\n",
            "Recall: 0.7798\n",
            "F1-score: 0.7925\n"
          ]
        }
      ],
      "source": [
        "# Make predictions on the validation set\n",
        "y_pred_prob = best_LSTM_model.predict(X_val)\n",
        "y_pred = (y_pred_prob > 0.5).astype(int) # Convert probabilities to binary predictions\n",
        "\n",
        "# Calculate precision, recall, and F1-score\n",
        "precision = precision_score(y_val, y_pred)\n",
        "recall = recall_score(y_val, y_pred)\n",
        "f1 = f1_score(y_val, y_pred)\n",
        "\n",
        "print(f\"Precision: {precision:.4f}\")\n",
        "print(f\"Recall: {recall:.4f}\")\n",
        "print(f\"F1-score: {f1:.4f}\")"
      ]
    },
    {
      "cell_type": "code",
      "execution_count": 135,
      "metadata": {
        "colab": {
          "base_uri": "https://localhost:8080/",
          "height": 499
        },
        "id": "oe2xRA_x6qg2",
        "outputId": "b0f7036d-18a3-4fac-c92c-0303a4655841"
      },
      "outputs": [
        {
          "data": {
            "image/png": "[encoded data removed]",
            "text/plain": [
              "<Figure size 600x600 with 2 Axes>"
            ]
          },
          "metadata": {},
          "output_type": "display_data"
        }
      ],
      "source": [
        "# Calculate the confusion matrix\n",
        "cm = confusion_matrix(y_val, y_pred)\n",
        "\n",
        "disp = ConfusionMatrixDisplay(confusion_matrix=cm, display_labels=[0, 1])\n",
        "\n",
        "fig, ax = plt.subplots(figsize=(6, 6))\n",
        "disp.plot(cmap=plt.cm.Blues, ax=ax)\n",
        "plt.title('Confusion Matrix')\n",
        "plt.show()"
      ]
    },
    {
      "cell_type": "markdown",
      "metadata": {
        "id": "oPhAAU-f8YsJ"
      },
      "source": [
        "### Model 2 Results\n",
        "\n",
        "The LSTM model also shows patterns of overfitting, similar to the vanilla RNN.\n",
        "\n",
        "It's a little surprising that the LSTM model's performance is not much of an improvement over the simpler vanilla RNN, since the complexity of the model with its \"forget\" gates in theory should reduce the vanishing gradient problem. The mediocre performance could be attributed to the LSTM's greater number of parameters, which require more training data to learn effectively and can lead to overfitting on smaller datasets or shorter sequences like these tweets. It's possible that these tweets are so short, there is not enough information in the sequence to cause the gradient to \"vanish\", so there might be only a disadvantage in using the more complex LSTM architecture."
      ]
    },
    {
      "cell_type": "markdown",
      "metadata": {
        "id": "e5a8fbc0"
      },
      "source": [
        "### Model 3\n",
        "\n",
        "The third model is a Gated Recurrent Unit (GRU) network. This replaces the `LSTM` layer with a `GRU` layer, which also has 64 units. GRUs have fewer gates than LSTMs, making them simpler and computationally less expensive."
      ]
    },
    {
      "cell_type": "code",
      "execution_count": 136,
      "metadata": {
        "colab": {
          "base_uri": "https://localhost:8080/",
          "height": 320
        },
        "id": "vMjP2Km538m7",
        "outputId": "2dde763b-a5f5-4861-f07c-78e525518baf"
      },
      "outputs": [
        {
          "name": "stderr",
          "output_type": "stream",
          "text": [
            "/usr/local/lib/python3.12/dist-packages/keras/src/layers/core/embedding.py:97: UserWarning: Argument `input_length` is deprecated. Just remove it.\n",
            "  warnings.warn(\n"
          ]
        },
        {
          "data": {
            "text/html": [
              "<pre style=\"white-space:pre;overflow-x:auto;line-height:normal;font-family:Menlo,'DejaVu Sans Mono',consolas,'Courier New',monospace\"><span style=\"font-weight: bold\">Model: \"GRU_model\"</span>\n",
              "</pre>\n"
            ],
            "text/plain": [
              "\u001b[1mModel: \"GRU_model\"\u001b[0m\n"
            ]
          },
          "metadata": {},
          "output_type": "display_data"
        },
        {
          "data": {
            "text/html": [
              "<pre style=\"white-space:pre;overflow-x:auto;line-height:normal;font-family:Menlo,'DejaVu Sans Mono',consolas,'Courier New',monospace\">┏━━━━━━━━━━━━━━━━━━━━━━━━━━━━━━━━━┳━━━━━━━━━━━━━━━━━━━━━━━━┳━━━━━━━━━━━━━━━┓\n",
              "┃<span style=\"font-weight: bold\"> Layer (type)                    </span>┃<span style=\"font-weight: bold\"> Output Shape           </span>┃<span style=\"font-weight: bold\">       Param # </span>┃\n",
              "┡━━━━━━━━━━━━━━━━━━━━━━━━━━━━━━━━━╇━━━━━━━━━━━━━━━━━━━━━━━━╇━━━━━━━━━━━━━━━┩\n",
              "│ embedding_layer (<span style=\"color: #0087ff; text-decoration-color: #0087ff\">Embedding</span>)     │ (<span style=\"color: #00d7ff; text-decoration-color: #00d7ff\">None</span>, <span style=\"color: #00af00; text-decoration-color: #00af00\">31</span>, <span style=\"color: #00af00; text-decoration-color: #00af00\">100</span>)        │     <span style=\"color: #00af00; text-decoration-color: #00af00\">2,265,300</span> │\n",
              "├─────────────────────────────────┼────────────────────────┼───────────────┤\n",
              "│ GRU_layer (<span style=\"color: #0087ff; text-decoration-color: #0087ff\">GRU</span>)                 │ (<span style=\"color: #00d7ff; text-decoration-color: #00d7ff\">None</span>, <span style=\"color: #00af00; text-decoration-color: #00af00\">64</span>)             │        <span style=\"color: #00af00; text-decoration-color: #00af00\">31,872</span> │\n",
              "├─────────────────────────────────┼────────────────────────┼───────────────┤\n",
              "│ dropout_layer (<span style=\"color: #0087ff; text-decoration-color: #0087ff\">Dropout</span>)         │ (<span style=\"color: #00d7ff; text-decoration-color: #00d7ff\">None</span>, <span style=\"color: #00af00; text-decoration-color: #00af00\">64</span>)             │             <span style=\"color: #00af00; text-decoration-color: #00af00\">0</span> │\n",
              "├─────────────────────────────────┼────────────────────────┼───────────────┤\n",
              "│ output_layer (<span style=\"color: #0087ff; text-decoration-color: #0087ff\">Dense</span>)            │ (<span style=\"color: #00d7ff; text-decoration-color: #00d7ff\">None</span>, <span style=\"color: #00af00; text-decoration-color: #00af00\">1</span>)              │            <span style=\"color: #00af00; text-decoration-color: #00af00\">65</span> │\n",
              "└─────────────────────────────────┴────────────────────────┴───────────────┘\n",
              "</pre>\n"
            ],
            "text/plain": [
              "┏━━━━━━━━━━━━━━━━━━━━━━━━━━━━━━━━━┳━━━━━━━━━━━━━━━━━━━━━━━━┳━━━━━━━━━━━━━━━┓\n",
              "┃\u001b[1m \u001b[0m\u001b[1mLayer (type)                   \u001b[0m\u001b[1m \u001b[0m┃\u001b[1m \u001b[0m\u001b[1mOutput Shape          \u001b[0m\u001b[1m \u001b[0m┃\u001b[1m \u001b[0m\u001b[1m      Param #\u001b[0m\u001b[1m \u001b[0m┃\n",
              "┡━━━━━━━━━━━━━━━━━━━━━━━━━━━━━━━━━╇━━━━━━━━━━━━━━━━━━━━━━━━╇━━━━━━━━━━━━━━━┩\n",
              "│ embedding_layer (\u001b[38;5;33mEmbedding\u001b[0m)     │ (\u001b[38;5;45mNone\u001b[0m, \u001b[38;5;34m31\u001b[0m, \u001b[38;5;34m100\u001b[0m)        │     \u001b[38;5;34m2,265,300\u001b[0m │\n",
              "├─────────────────────────────────┼────────────────────────┼───────────────┤\n",
              "│ GRU_layer (\u001b[38;5;33mGRU\u001b[0m)                 │ (\u001b[38;5;45mNone\u001b[0m, \u001b[38;5;34m64\u001b[0m)             │        \u001b[38;5;34m31,872\u001b[0m │\n",
              "├─────────────────────────────────┼────────────────────────┼───────────────┤\n",
              "│ dropout_layer (\u001b[38;5;33mDropout\u001b[0m)         │ (\u001b[38;5;45mNone\u001b[0m, \u001b[38;5;34m64\u001b[0m)             │             \u001b[38;5;34m0\u001b[0m │\n",
              "├─────────────────────────────────┼────────────────────────┼───────────────┤\n",
              "│ output_layer (\u001b[38;5;33mDense\u001b[0m)            │ (\u001b[38;5;45mNone\u001b[0m, \u001b[38;5;34m1\u001b[0m)              │            \u001b[38;5;34m65\u001b[0m │\n",
              "└─────────────────────────────────┴────────────────────────┴───────────────┘\n"
            ]
          },
          "metadata": {},
          "output_type": "display_data"
        },
        {
          "data": {
            "text/html": [
              "<pre style=\"white-space:pre;overflow-x:auto;line-height:normal;font-family:Menlo,'DejaVu Sans Mono',consolas,'Courier New',monospace\"><span style=\"font-weight: bold\"> Total params: </span><span style=\"color: #00af00; text-decoration-color: #00af00\">2,297,237</span> (8.76 MB)\n",
              "</pre>\n"
            ],
            "text/plain": [
              "\u001b[1m Total params: \u001b[0m\u001b[38;5;34m2,297,237\u001b[0m (8.76 MB)\n"
            ]
          },
          "metadata": {},
          "output_type": "display_data"
        },
        {
          "data": {
            "text/html": [
              "<pre style=\"white-space:pre;overflow-x:auto;line-height:normal;font-family:Menlo,'DejaVu Sans Mono',consolas,'Courier New',monospace\"><span style=\"font-weight: bold\"> Trainable params: </span><span style=\"color: #00af00; text-decoration-color: #00af00\">2,297,237</span> (8.76 MB)\n",
              "</pre>\n"
            ],
            "text/plain": [
              "\u001b[1m Trainable params: \u001b[0m\u001b[38;5;34m2,297,237\u001b[0m (8.76 MB)\n"
            ]
          },
          "metadata": {},
          "output_type": "display_data"
        },
        {
          "data": {
            "text/html": [
              "<pre style=\"white-space:pre;overflow-x:auto;line-height:normal;font-family:Menlo,'DejaVu Sans Mono',consolas,'Courier New',monospace\"><span style=\"font-weight: bold\"> Non-trainable params: </span><span style=\"color: #00af00; text-decoration-color: #00af00\">0</span> (0.00 B)\n",
              "</pre>\n"
            ],
            "text/plain": [
              "\u001b[1m Non-trainable params: \u001b[0m\u001b[38;5;34m0\u001b[0m (0.00 B)\n"
            ]
          },
          "metadata": {},
          "output_type": "display_data"
        }
      ],
      "source": [
        "model_GRU = Sequential([\n",
        "        # Embedding layer, initialized with pre-trained GloVe weights\n",
        "        Embedding(\n",
        "            input_dim=VOCAB_SIZE,\n",
        "            output_dim=EMBEDDING_DIMENSION,\n",
        "            weights=[embedding_matrix],\n",
        "            input_length=MAX_SEQUENCE_LENGTH,\n",
        "            trainable=True,  # Allow the embeddings to be adjusted in backpropagation\n",
        "            name='embedding_layer'\n",
        "        ),\n",
        "        GRU(64, name='GRU_layer'),\n",
        "\n",
        "        # Dropout layer for the classifier to prevent overfitting\n",
        "        Dropout(0.5, name='dropout_layer'),\n",
        "\n",
        "        # Final binary classifier\n",
        "        Dense(1, activation='sigmoid', name='output_layer') # Custom name for the Dense layer\n",
        "    ], name='GRU_model')\n",
        "\n",
        "model_GRU.compile(\n",
        "    optimizer='adam',\n",
        "    loss='binary_crossentropy',\n",
        "    metrics=['accuracy']\n",
        ")\n",
        "\n",
        "model_GRU.build(input_shape=(None, MAX_SEQUENCE_LENGTH))\n",
        "model_GRU.summary()"
      ]
    },
    {
      "cell_type": "code",
      "execution_count": 138,
      "metadata": {
        "colab": {
          "base_uri": "https://localhost:8080/"
        },
        "id": "p25vbPzO4MON",
        "outputId": "2c9b5e95-e53c-492b-cec1-8c82f6331304"
      },
      "outputs": [
        {
          "name": "stdout",
          "output_type": "stream",
          "text": [
            "Epoch 1/10\n",
            "\u001b[1m191/191\u001b[0m \u001b[32m━━━━━━━━━━━━━━━━━━━━\u001b[0m\u001b[37m\u001b[0m \u001b[1m9s\u001b[0m 31ms/step - accuracy: 0.6636 - loss: 0.6119 - val_accuracy: 0.8181 - val_loss: 0.4084 - learning_rate: 0.0010\n",
            "Epoch 2/10\n",
            "\u001b[1m191/191\u001b[0m \u001b[32m━━━━━━━━━━━━━━━━━━━━\u001b[0m\u001b[37m\u001b[0m \u001b[1m6s\u001b[0m 29ms/step - accuracy: 0.8334 - loss: 0.3949 - val_accuracy: 0.8299 - val_loss: 0.4011 - learning_rate: 0.0010\n",
            "Epoch 3/10\n",
            "\u001b[1m191/191\u001b[0m \u001b[32m━━━━━━━━━━━━━━━━━━━━\u001b[0m\u001b[37m\u001b[0m \u001b[1m6s\u001b[0m 31ms/step - accuracy: 0.8913 - loss: 0.2827 - val_accuracy: 0.8267 - val_loss: 0.4219 - learning_rate: 0.0010\n",
            "Epoch 4/10\n",
            "\u001b[1m191/191\u001b[0m \u001b[32m━━━━━━━━━━━━━━━━━━━━\u001b[0m\u001b[37m\u001b[0m \u001b[1m8s\u001b[0m 43ms/step - accuracy: 0.9345 - loss: 0.1751 - val_accuracy: 0.8122 - val_loss: 0.5134 - learning_rate: 0.0010\n",
            "Epoch 5/10\n",
            "\u001b[1m191/191\u001b[0m \u001b[32m━━━━━━━━━━━━━━━━━━━━\u001b[0m\u001b[37m\u001b[0m \u001b[1m5s\u001b[0m 26ms/step - accuracy: 0.9739 - loss: 0.0736 - val_accuracy: 0.8102 - val_loss: 0.5469 - learning_rate: 2.0000e-04\n",
            "Epoch 6/10\n",
            "\u001b[1m191/191\u001b[0m \u001b[32m━━━━━━━━━━━━━━━━━━━━\u001b[0m\u001b[37m\u001b[0m \u001b[1m5s\u001b[0m 28ms/step - accuracy: 0.9830 - loss: 0.0621 - val_accuracy: 0.8102 - val_loss: 0.6012 - learning_rate: 2.0000e-04\n",
            "Epoch 7/10\n",
            "\u001b[1m191/191\u001b[0m \u001b[32m━━━━━━━━━━━━━━━━━━━━\u001b[0m\u001b[37m\u001b[0m \u001b[1m6s\u001b[0m 30ms/step - accuracy: 0.9850 - loss: 0.0499 - val_accuracy: 0.8096 - val_loss: 0.6147 - learning_rate: 4.0000e-05\n",
            "Epoch 8/10\n",
            "\u001b[1m191/191\u001b[0m \u001b[32m━━━━━━━━━━━━━━━━━━━━\u001b[0m\u001b[37m\u001b[0m \u001b[1m6s\u001b[0m 32ms/step - accuracy: 0.9859 - loss: 0.0464 - val_accuracy: 0.8102 - val_loss: 0.6260 - learning_rate: 4.0000e-05\n",
            "Epoch 9/10\n",
            "\u001b[1m191/191\u001b[0m \u001b[32m━━━━━━━━━━━━━━━━━━━━\u001b[0m\u001b[37m\u001b[0m \u001b[1m6s\u001b[0m 30ms/step - accuracy: 0.9868 - loss: 0.0426 - val_accuracy: 0.8089 - val_loss: 0.6277 - learning_rate: 1.0000e-05\n",
            "Epoch 10/10\n",
            "\u001b[1m191/191\u001b[0m \u001b[32m━━━━━━━━━━━━━━━━━━━━\u001b[0m\u001b[37m\u001b[0m \u001b[1m6s\u001b[0m 33ms/step - accuracy: 0.9898 - loss: 0.0399 - val_accuracy: 0.8096 - val_loss: 0.6320 - learning_rate: 1.0000e-05\n"
          ]
        }
      ],
      "source": [
        "# Reduce the learning rate when validation loss plateaus\n",
        "lr_scheduler = ReduceLROnPlateau(monitor='val_loss',\n",
        "                                 patience=2,\n",
        "                                 factor=0.2,\n",
        "                                 min_lr=0.00001)\n",
        "\n",
        "# Save the best model based on validation loss\n",
        "model_checkpoint = ModelCheckpoint(filepath='best_model_GRU.keras',\n",
        "                                   save_best_only=True,\n",
        "                                   monitor='val_loss',\n",
        "                                   mode='min')\n",
        "\n",
        "EPOCHS_3 = 10\n",
        "history_3 = model_GRU.fit(\n",
        "    X_train, y_train,\n",
        "    epochs=EPOCHS_3,\n",
        "    batch_size=32,\n",
        "    validation_data=(X_val, y_val),\n",
        "    callbacks=[lr_scheduler, model_checkpoint], # Added callbacks\n",
        "    verbose=1\n",
        ")"
      ]
    },
    {
      "cell_type": "code",
      "execution_count": 139,
      "metadata": {
        "colab": {
          "base_uri": "https://localhost:8080/"
        },
        "id": "YCT-6JWKG9do",
        "outputId": "99c772cb-a25b-4e18-a176-603dc8f16599"
      },
      "outputs": [
        {
          "name": "stdout",
          "output_type": "stream",
          "text": [
            "Evaluation of the best saved GRU model on the validation set:\n",
            "  Loss: 0.4011\n",
            "  Accuracy: 0.8299\n"
          ]
        }
      ],
      "source": [
        "# Load the best saved model\n",
        "best_GRU_model = load_model('best_model_GRU.keras')\n",
        "\n",
        "# Evaluate the loaded model on the validation set\n",
        "loss, accuracy = best_GRU_model.evaluate(X_val, y_val, verbose=0)\n",
        "\n",
        "print(f\"Evaluation of the best saved GRU model on the validation set:\")\n",
        "print(f\"  Loss: {loss:.4f}\")\n",
        "print(f\"  Accuracy: {accuracy:.4f}\")"
      ]
    },
    {
      "cell_type": "code",
      "execution_count": 140,
      "metadata": {
        "colab": {
          "base_uri": "https://localhost:8080/",
          "height": 399
        },
        "id": "ETFxP9Af4UkI",
        "outputId": "47abd9d4-937e-4de1-9c4b-5bbe80c71837"
      },
      "outputs": [
        {
          "data": {
            "image/png": "[encoded data removed]",
            "text/plain": [
              "<Figure size 1200x500 with 2 Axes>"
            ]
          },
          "metadata": {},
          "output_type": "display_data"
        }
      ],
      "source": [
        "# Get the metrics from the history object\n",
        "acc_3 = history_3.history['accuracy']\n",
        "val_acc_3 = history_3.history['val_accuracy']\n",
        "loss_3 = history_3.history['loss']\n",
        "val_loss_3 = history_3.history['val_loss']\n",
        "\n",
        "epochs_range = range(EPOCHS_3)\n",
        "\n",
        "plt.figure(figsize=(12, 5))\n",
        "\n",
        "# Plot 1: Accuracy\n",
        "plt.subplot(1, 2, 1)\n",
        "plt.plot(epochs_range, acc_3, label='Training Accuracy')\n",
        "plt.plot(epochs_range, val_acc_3, label='Validation Accuracy')\n",
        "plt.legend(loc='lower right')\n",
        "plt.title('Training and Validation Accuracy')\n",
        "plt.xlabel('Epoch')\n",
        "plt.ylabel('Accuracy')\n",
        "\n",
        "# Plot 2: Loss\n",
        "plt.subplot(1, 2, 2)\n",
        "plt.plot(epochs_range, loss_3, label='Training Loss')\n",
        "plt.plot(epochs_range, val_loss_3, label='Validation Loss')\n",
        "plt.legend(loc='upper right')\n",
        "plt.title('Training and Validation Loss')\n",
        "plt.xlabel('Epoch')\n",
        "plt.ylabel('Loss')\n",
        "\n",
        "plt.show()"
      ]
    },
    {
      "cell_type": "code",
      "execution_count": 141,
      "metadata": {
        "colab": {
          "base_uri": "https://localhost:8080/"
        },
        "id": "f6V59mrK4kFD",
        "outputId": "849197ed-df53-4d2b-8e63-9bac4664bd8c"
      },
      "outputs": [
        {
          "name": "stdout",
          "output_type": "stream",
          "text": [
            "\u001b[1m48/48\u001b[0m \u001b[32m━━━━━━━━━━━━━━━━━━━━\u001b[0m\u001b[37m\u001b[0m \u001b[1m1s\u001b[0m 14ms/step\n",
            "Precision: 0.8411\n",
            "Recall: 0.7446\n",
            "F1-score: 0.7899\n"
          ]
        }
      ],
      "source": [
        "# Make predictions on the validation set\n",
        "y_pred_prob = best_GRU_model.predict(X_val)\n",
        "y_pred = (y_pred_prob > 0.5).astype(int) # Convert probabilities to binary predictions\n",
        "\n",
        "# Calculate precision, recall, and F1-score\n",
        "precision = precision_score(y_val, y_pred)\n",
        "recall = recall_score(y_val, y_pred)\n",
        "f1 = f1_score(y_val, y_pred)\n",
        "\n",
        "print(f\"Precision: {precision:.4f}\")\n",
        "print(f\"Recall: {recall:.4f}\")\n",
        "print(f\"F1-score: {f1:.4f}\")"
      ]
    },
    {
      "cell_type": "code",
      "execution_count": 142,
      "metadata": {
        "colab": {
          "base_uri": "https://localhost:8080/",
          "height": 502
        },
        "id": "b7a2159b",
        "outputId": "c107e23d-eb94-4cec-d3ac-4ffc6a293038"
      },
      "outputs": [
        {
          "data": {
            "image/png": "[encoded data removed]",
            "text/plain": [
              "<Figure size 600x600 with 2 Axes>"
            ]
          },
          "metadata": {},
          "output_type": "display_data"
        }
      ],
      "source": [
        "# Calculate the confusion matrix\n",
        "cm = confusion_matrix(y_val, y_pred)\n",
        "\n",
        "disp = ConfusionMatrixDisplay(confusion_matrix=cm, display_labels=[0, 1])\n",
        "\n",
        "fig, ax = plt.subplots(figsize=(6, 6))\n",
        "disp.plot(cmap=plt.cm.Blues, ax=ax)\n",
        "plt.title('Confusion Matrix')\n",
        "plt.show()"
      ]
    },
    {
      "cell_type": "markdown",
      "metadata": {
        "id": "856389fe"
      },
      "source": [
        "### Model 3 Results\n",
        "\n",
        "The GRU model, like other models, also shows signs of overfitting. Comparing the GRU's performance to the LSTM, the GRU model achieved a slightly lower F1-score on the validation set compared to the LSTM. The GRU also showed a lower recall than the LSTM, meaning it was slightly worse at identifying actual disaster tweets. However, the GRU had a higher precision (meaning it was more conservative in assigning positives). Compared to the vanilla RNN and LSTM, the GRU performed slightly better in terms of accuracy. This could be due to the GRU's mix of gated architecture (improving over the vanilla RNN) but not so complex as the LSTM's architecture (better suited for a small dataset such as this one)."
      ]
    },
    {
      "cell_type": "markdown",
      "metadata": {
        "id": "Fw5cAXNhD9f2"
      },
      "source": [
        "## Test Set Submission"
      ]
    },
    {
      "cell_type": "code",
      "execution_count": 143,
      "metadata": {
        "colab": {
          "base_uri": "https://localhost:8080/"
        },
        "id": "5Y2yWb0uD7dT",
        "outputId": "ca8a5392-5541-455a-cdb7-71c6eddfef51"
      },
      "outputs": [
        {
          "name": "stdout",
          "output_type": "stream",
          "text": [
            "Shape of preprocessed test data (X_test): (3263, 31)\n",
            "\u001b[1m102/102\u001b[0m \u001b[32m━━━━━━━━━━━━━━━━━━━━\u001b[0m\u001b[37m\u001b[0m \u001b[1m1s\u001b[0m 6ms/step\n",
            "Sample predictions (first 5): [1 1 1 1 1]\n",
            "   id  target\n",
            "0   0       1\n",
            "1   2       1\n",
            "2   3       1\n",
            "3   9       1\n",
            "4  11       1\n"
          ]
        }
      ],
      "source": [
        "# Get the text from the test DataFrame\n",
        "test_texts = test_df['text']\n",
        "\n",
        "# Use the same tokenizer to convert text to sequences of integers\n",
        "test_sequences = tokenizer.texts_to_sequences(test_texts)\n",
        "\n",
        "# Use the same padding length to make sequences uniform\n",
        "X_test = pad_sequences(test_sequences, maxlen=MAX_SEQUENCE_LENGTH)\n",
        "\n",
        "print(f\"Shape of preprocessed test data (X_test): {X_test.shape}\")\n",
        "\n",
        "\n",
        "predictions = best_GRU_model.predict(X_test)\n",
        "predicted_labels = (predictions > 0.5).astype(int)\n",
        "predicted_labels = predicted_labels.flatten()\n",
        "\n",
        "print(f\"Sample predictions (first 5): {predicted_labels[:5]}\")\n",
        "\n",
        "submission_df = pd.DataFrame({\n",
        "    'id': test_df['id'],\n",
        "    'target': predicted_labels\n",
        "})\n",
        "\n",
        "submission_df.to_csv('submission.csv', index=False)\n",
        "\n",
        "print(submission_df.head())"
      ]
    },
    {
      "cell_type": "markdown",
      "metadata": {
        "id": "74b1a275"
      },
      "source": [
        "## Conclusion\n",
        "\n",
        "In this notebook, I compared the performance of three RNN models (vanilla RNN, LSTM, and GRU) for classifying disaster tweets.\n",
        "\n",
        "All models showed signs of overfitting.\n",
        "\n",
        "The GRU model performed best on the validation set, and for this reason I used that model to run inference against the test dataset. My best public score from Kaggle was ~.81. Obviously, there is much room for improvement.\n",
        "\n",
        "I also experimented with increasing the hidden state size from 64 to 128 on the models, but this did not significantly improve results and sometimes made them slightly worse. To improve the models, techniques like bidirectional RNNs and more text preprocessing (stemming, lemmatization) would be worth pursuing."
      ]
    },
    {
      "cell_type": "code",
      "execution_count": null,
      "metadata": {
        "id": "wy1AJPBZPnw2"
      },
      "outputs": [],
      "source": []
    }
  ],
  "metadata": {
    "colab": {
      "machine_shape": "hm",
      "provenance": []
    },
    "kernelspec": {
      "display_name": "Python 3",
      "name": "python3"
    },
    "language_info": {
      "name": "python"
    }
  },
  "nbformat": 4,
  "nbformat_minor": 0
}
